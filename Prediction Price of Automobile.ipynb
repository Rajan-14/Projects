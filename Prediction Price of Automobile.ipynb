{
 "cells": [
  {
   "cell_type": "markdown",
   "metadata": {},
   "source": [
    "# Name : C Rangrajan Kumar\n",
    "\n",
    "- BI_ML_ASSIGNMENT_2"
   ]
  },
  {
   "cell_type": "code",
   "execution_count": 1,
   "metadata": {},
   "outputs": [],
   "source": [
    "# Import the library\n",
    "import pandas as pd\n",
    "import numpy as np\n",
    "import seaborn as sns\n",
    "import matplotlib.pyplot as  plt\n",
    "%matplotlib inline\n",
    "\n",
    "# supress warnings\n",
    "import warnings\n",
    "warnings.filterwarnings('ignore')"
   ]
  },
  {
   "cell_type": "markdown",
   "metadata": {},
   "source": [
    "## Section 1: Reading and Understanding the Data"
   ]
  },
  {
   "cell_type": "code",
   "execution_count": 2,
   "metadata": {},
   "outputs": [],
   "source": [
    "# Import the data set\n",
    "df = pd.read_csv(\"AutoData (1).csv\")"
   ]
  },
  {
   "cell_type": "code",
   "execution_count": 3,
   "metadata": {},
   "outputs": [
    {
     "data": {
      "text/html": [
       "<div>\n",
       "<style scoped>\n",
       "    .dataframe tbody tr th:only-of-type {\n",
       "        vertical-align: middle;\n",
       "    }\n",
       "\n",
       "    .dataframe tbody tr th {\n",
       "        vertical-align: top;\n",
       "    }\n",
       "\n",
       "    .dataframe thead th {\n",
       "        text-align: right;\n",
       "    }\n",
       "</style>\n",
       "<table border=\"1\" class=\"dataframe\">\n",
       "  <thead>\n",
       "    <tr style=\"text-align: right;\">\n",
       "      <th></th>\n",
       "      <th>symboling</th>\n",
       "      <th>make</th>\n",
       "      <th>fueltype</th>\n",
       "      <th>aspiration</th>\n",
       "      <th>doornumber</th>\n",
       "      <th>carbody</th>\n",
       "      <th>drivewheel</th>\n",
       "      <th>enginelocation</th>\n",
       "      <th>wheelbase</th>\n",
       "      <th>carlength</th>\n",
       "      <th>...</th>\n",
       "      <th>enginesize</th>\n",
       "      <th>fuelsystem</th>\n",
       "      <th>boreratio</th>\n",
       "      <th>stroke</th>\n",
       "      <th>compressionratio</th>\n",
       "      <th>horsepower</th>\n",
       "      <th>peakrpm</th>\n",
       "      <th>citympg</th>\n",
       "      <th>highwaympg</th>\n",
       "      <th>price</th>\n",
       "    </tr>\n",
       "  </thead>\n",
       "  <tbody>\n",
       "    <tr>\n",
       "      <th>0</th>\n",
       "      <td>3</td>\n",
       "      <td>alfa-romero giulia</td>\n",
       "      <td>gas</td>\n",
       "      <td>std</td>\n",
       "      <td>two</td>\n",
       "      <td>convertible</td>\n",
       "      <td>rwd</td>\n",
       "      <td>front</td>\n",
       "      <td>88.6</td>\n",
       "      <td>168.8</td>\n",
       "      <td>...</td>\n",
       "      <td>130</td>\n",
       "      <td>mpfi</td>\n",
       "      <td>3.47</td>\n",
       "      <td>2.68</td>\n",
       "      <td>9.0</td>\n",
       "      <td>111</td>\n",
       "      <td>5000</td>\n",
       "      <td>21</td>\n",
       "      <td>27</td>\n",
       "      <td>13495.0</td>\n",
       "    </tr>\n",
       "    <tr>\n",
       "      <th>1</th>\n",
       "      <td>3</td>\n",
       "      <td>alfa-romero stelvio</td>\n",
       "      <td>gas</td>\n",
       "      <td>std</td>\n",
       "      <td>two</td>\n",
       "      <td>convertible</td>\n",
       "      <td>rwd</td>\n",
       "      <td>front</td>\n",
       "      <td>88.6</td>\n",
       "      <td>168.8</td>\n",
       "      <td>...</td>\n",
       "      <td>130</td>\n",
       "      <td>mpfi</td>\n",
       "      <td>3.47</td>\n",
       "      <td>2.68</td>\n",
       "      <td>9.0</td>\n",
       "      <td>111</td>\n",
       "      <td>5000</td>\n",
       "      <td>21</td>\n",
       "      <td>27</td>\n",
       "      <td>16500.0</td>\n",
       "    </tr>\n",
       "    <tr>\n",
       "      <th>2</th>\n",
       "      <td>1</td>\n",
       "      <td>alfa-romero Quadrifoglio</td>\n",
       "      <td>gas</td>\n",
       "      <td>std</td>\n",
       "      <td>two</td>\n",
       "      <td>hatchback</td>\n",
       "      <td>rwd</td>\n",
       "      <td>front</td>\n",
       "      <td>94.5</td>\n",
       "      <td>171.2</td>\n",
       "      <td>...</td>\n",
       "      <td>152</td>\n",
       "      <td>mpfi</td>\n",
       "      <td>2.68</td>\n",
       "      <td>3.47</td>\n",
       "      <td>9.0</td>\n",
       "      <td>154</td>\n",
       "      <td>5000</td>\n",
       "      <td>19</td>\n",
       "      <td>26</td>\n",
       "      <td>16500.0</td>\n",
       "    </tr>\n",
       "    <tr>\n",
       "      <th>3</th>\n",
       "      <td>2</td>\n",
       "      <td>audi 100 ls</td>\n",
       "      <td>gas</td>\n",
       "      <td>std</td>\n",
       "      <td>four</td>\n",
       "      <td>sedan</td>\n",
       "      <td>fwd</td>\n",
       "      <td>front</td>\n",
       "      <td>99.8</td>\n",
       "      <td>176.6</td>\n",
       "      <td>...</td>\n",
       "      <td>109</td>\n",
       "      <td>mpfi</td>\n",
       "      <td>3.19</td>\n",
       "      <td>3.40</td>\n",
       "      <td>10.0</td>\n",
       "      <td>102</td>\n",
       "      <td>5500</td>\n",
       "      <td>24</td>\n",
       "      <td>30</td>\n",
       "      <td>13950.0</td>\n",
       "    </tr>\n",
       "    <tr>\n",
       "      <th>4</th>\n",
       "      <td>2</td>\n",
       "      <td>audi 100ls</td>\n",
       "      <td>gas</td>\n",
       "      <td>std</td>\n",
       "      <td>four</td>\n",
       "      <td>sedan</td>\n",
       "      <td>4wd</td>\n",
       "      <td>front</td>\n",
       "      <td>99.4</td>\n",
       "      <td>176.6</td>\n",
       "      <td>...</td>\n",
       "      <td>136</td>\n",
       "      <td>mpfi</td>\n",
       "      <td>3.19</td>\n",
       "      <td>3.40</td>\n",
       "      <td>8.0</td>\n",
       "      <td>115</td>\n",
       "      <td>5500</td>\n",
       "      <td>18</td>\n",
       "      <td>22</td>\n",
       "      <td>17450.0</td>\n",
       "    </tr>\n",
       "  </tbody>\n",
       "</table>\n",
       "<p>5 rows × 25 columns</p>\n",
       "</div>"
      ],
      "text/plain": [
       "   symboling                      make fueltype aspiration doornumber  \\\n",
       "0          3        alfa-romero giulia      gas        std        two   \n",
       "1          3       alfa-romero stelvio      gas        std        two   \n",
       "2          1  alfa-romero Quadrifoglio      gas        std        two   \n",
       "3          2               audi 100 ls      gas        std       four   \n",
       "4          2                audi 100ls      gas        std       four   \n",
       "\n",
       "       carbody drivewheel enginelocation  wheelbase  carlength  ...  \\\n",
       "0  convertible        rwd          front       88.6      168.8  ...   \n",
       "1  convertible        rwd          front       88.6      168.8  ...   \n",
       "2    hatchback        rwd          front       94.5      171.2  ...   \n",
       "3        sedan        fwd          front       99.8      176.6  ...   \n",
       "4        sedan        4wd          front       99.4      176.6  ...   \n",
       "\n",
       "   enginesize  fuelsystem  boreratio stroke compressionratio  horsepower  \\\n",
       "0         130        mpfi       3.47   2.68              9.0         111   \n",
       "1         130        mpfi       3.47   2.68              9.0         111   \n",
       "2         152        mpfi       2.68   3.47              9.0         154   \n",
       "3         109        mpfi       3.19   3.40             10.0         102   \n",
       "4         136        mpfi       3.19   3.40              8.0         115   \n",
       "\n",
       "  peakrpm  citympg  highwaympg    price  \n",
       "0    5000       21          27  13495.0  \n",
       "1    5000       21          27  16500.0  \n",
       "2    5000       19          26  16500.0  \n",
       "3    5500       24          30  13950.0  \n",
       "4    5500       18          22  17450.0  \n",
       "\n",
       "[5 rows x 25 columns]"
      ]
     },
     "execution_count": 3,
     "metadata": {},
     "output_type": "execute_result"
    }
   ],
   "source": [
    "df.head()"
   ]
  },
  {
   "cell_type": "code",
   "execution_count": 4,
   "metadata": {},
   "outputs": [
    {
     "name": "stdout",
     "output_type": "stream",
     "text": [
      "<class 'pandas.core.frame.DataFrame'>\n",
      "RangeIndex: 205 entries, 0 to 204\n",
      "Data columns (total 25 columns):\n",
      " #   Column            Non-Null Count  Dtype  \n",
      "---  ------            --------------  -----  \n",
      " 0   symboling         205 non-null    int64  \n",
      " 1   make              205 non-null    object \n",
      " 2   fueltype          205 non-null    object \n",
      " 3   aspiration        205 non-null    object \n",
      " 4   doornumber        205 non-null    object \n",
      " 5   carbody           205 non-null    object \n",
      " 6   drivewheel        205 non-null    object \n",
      " 7   enginelocation    205 non-null    object \n",
      " 8   wheelbase         205 non-null    float64\n",
      " 9   carlength         205 non-null    float64\n",
      " 10  carwidth          205 non-null    float64\n",
      " 11  carheight         205 non-null    float64\n",
      " 12  curbweight        205 non-null    int64  \n",
      " 13  enginetype        205 non-null    object \n",
      " 14  cylindernumber    205 non-null    object \n",
      " 15  enginesize        205 non-null    int64  \n",
      " 16  fuelsystem        205 non-null    object \n",
      " 17  boreratio         205 non-null    float64\n",
      " 18  stroke            205 non-null    float64\n",
      " 19  compressionratio  205 non-null    float64\n",
      " 20  horsepower        205 non-null    int64  \n",
      " 21  peakrpm           205 non-null    int64  \n",
      " 22  citympg           205 non-null    int64  \n",
      " 23  highwaympg        205 non-null    int64  \n",
      " 24  price             205 non-null    float64\n",
      "dtypes: float64(8), int64(7), object(10)\n",
      "memory usage: 40.2+ KB\n"
     ]
    }
   ],
   "source": [
    "df.info()"
   ]
  },
  {
   "cell_type": "code",
   "execution_count": 5,
   "metadata": {},
   "outputs": [
    {
     "data": {
      "text/html": [
       "<div>\n",
       "<style scoped>\n",
       "    .dataframe tbody tr th:only-of-type {\n",
       "        vertical-align: middle;\n",
       "    }\n",
       "\n",
       "    .dataframe tbody tr th {\n",
       "        vertical-align: top;\n",
       "    }\n",
       "\n",
       "    .dataframe thead th {\n",
       "        text-align: right;\n",
       "    }\n",
       "</style>\n",
       "<table border=\"1\" class=\"dataframe\">\n",
       "  <thead>\n",
       "    <tr style=\"text-align: right;\">\n",
       "      <th></th>\n",
       "      <th>symboling</th>\n",
       "      <th>wheelbase</th>\n",
       "      <th>carlength</th>\n",
       "      <th>carwidth</th>\n",
       "      <th>carheight</th>\n",
       "      <th>curbweight</th>\n",
       "      <th>enginesize</th>\n",
       "      <th>boreratio</th>\n",
       "      <th>stroke</th>\n",
       "      <th>compressionratio</th>\n",
       "      <th>horsepower</th>\n",
       "      <th>peakrpm</th>\n",
       "      <th>citympg</th>\n",
       "      <th>highwaympg</th>\n",
       "      <th>price</th>\n",
       "    </tr>\n",
       "  </thead>\n",
       "  <tbody>\n",
       "    <tr>\n",
       "      <th>count</th>\n",
       "      <td>205.000000</td>\n",
       "      <td>205.000000</td>\n",
       "      <td>205.000000</td>\n",
       "      <td>205.000000</td>\n",
       "      <td>205.000000</td>\n",
       "      <td>205.000000</td>\n",
       "      <td>205.000000</td>\n",
       "      <td>205.000000</td>\n",
       "      <td>205.000000</td>\n",
       "      <td>205.000000</td>\n",
       "      <td>205.000000</td>\n",
       "      <td>205.000000</td>\n",
       "      <td>205.000000</td>\n",
       "      <td>205.000000</td>\n",
       "      <td>205.000000</td>\n",
       "    </tr>\n",
       "    <tr>\n",
       "      <th>mean</th>\n",
       "      <td>0.834146</td>\n",
       "      <td>98.756585</td>\n",
       "      <td>174.049268</td>\n",
       "      <td>65.907805</td>\n",
       "      <td>53.724878</td>\n",
       "      <td>2555.565854</td>\n",
       "      <td>126.907317</td>\n",
       "      <td>3.329756</td>\n",
       "      <td>3.255415</td>\n",
       "      <td>10.142537</td>\n",
       "      <td>104.117073</td>\n",
       "      <td>5125.121951</td>\n",
       "      <td>25.219512</td>\n",
       "      <td>30.751220</td>\n",
       "      <td>13276.710571</td>\n",
       "    </tr>\n",
       "    <tr>\n",
       "      <th>std</th>\n",
       "      <td>1.245307</td>\n",
       "      <td>6.021776</td>\n",
       "      <td>12.337289</td>\n",
       "      <td>2.145204</td>\n",
       "      <td>2.443522</td>\n",
       "      <td>520.680204</td>\n",
       "      <td>41.642693</td>\n",
       "      <td>0.270844</td>\n",
       "      <td>0.313597</td>\n",
       "      <td>3.972040</td>\n",
       "      <td>39.544167</td>\n",
       "      <td>476.985643</td>\n",
       "      <td>6.542142</td>\n",
       "      <td>6.886443</td>\n",
       "      <td>7988.852332</td>\n",
       "    </tr>\n",
       "    <tr>\n",
       "      <th>min</th>\n",
       "      <td>-2.000000</td>\n",
       "      <td>86.600000</td>\n",
       "      <td>141.100000</td>\n",
       "      <td>60.300000</td>\n",
       "      <td>47.800000</td>\n",
       "      <td>1488.000000</td>\n",
       "      <td>61.000000</td>\n",
       "      <td>2.540000</td>\n",
       "      <td>2.070000</td>\n",
       "      <td>7.000000</td>\n",
       "      <td>48.000000</td>\n",
       "      <td>4150.000000</td>\n",
       "      <td>13.000000</td>\n",
       "      <td>16.000000</td>\n",
       "      <td>5118.000000</td>\n",
       "    </tr>\n",
       "    <tr>\n",
       "      <th>25%</th>\n",
       "      <td>0.000000</td>\n",
       "      <td>94.500000</td>\n",
       "      <td>166.300000</td>\n",
       "      <td>64.100000</td>\n",
       "      <td>52.000000</td>\n",
       "      <td>2145.000000</td>\n",
       "      <td>97.000000</td>\n",
       "      <td>3.150000</td>\n",
       "      <td>3.110000</td>\n",
       "      <td>8.600000</td>\n",
       "      <td>70.000000</td>\n",
       "      <td>4800.000000</td>\n",
       "      <td>19.000000</td>\n",
       "      <td>25.000000</td>\n",
       "      <td>7788.000000</td>\n",
       "    </tr>\n",
       "    <tr>\n",
       "      <th>50%</th>\n",
       "      <td>1.000000</td>\n",
       "      <td>97.000000</td>\n",
       "      <td>173.200000</td>\n",
       "      <td>65.500000</td>\n",
       "      <td>54.100000</td>\n",
       "      <td>2414.000000</td>\n",
       "      <td>120.000000</td>\n",
       "      <td>3.310000</td>\n",
       "      <td>3.290000</td>\n",
       "      <td>9.000000</td>\n",
       "      <td>95.000000</td>\n",
       "      <td>5200.000000</td>\n",
       "      <td>24.000000</td>\n",
       "      <td>30.000000</td>\n",
       "      <td>10295.000000</td>\n",
       "    </tr>\n",
       "    <tr>\n",
       "      <th>75%</th>\n",
       "      <td>2.000000</td>\n",
       "      <td>102.400000</td>\n",
       "      <td>183.100000</td>\n",
       "      <td>66.900000</td>\n",
       "      <td>55.500000</td>\n",
       "      <td>2935.000000</td>\n",
       "      <td>141.000000</td>\n",
       "      <td>3.580000</td>\n",
       "      <td>3.410000</td>\n",
       "      <td>9.400000</td>\n",
       "      <td>116.000000</td>\n",
       "      <td>5500.000000</td>\n",
       "      <td>30.000000</td>\n",
       "      <td>34.000000</td>\n",
       "      <td>16503.000000</td>\n",
       "    </tr>\n",
       "    <tr>\n",
       "      <th>max</th>\n",
       "      <td>3.000000</td>\n",
       "      <td>120.900000</td>\n",
       "      <td>208.100000</td>\n",
       "      <td>72.300000</td>\n",
       "      <td>59.800000</td>\n",
       "      <td>4066.000000</td>\n",
       "      <td>326.000000</td>\n",
       "      <td>3.940000</td>\n",
       "      <td>4.170000</td>\n",
       "      <td>23.000000</td>\n",
       "      <td>288.000000</td>\n",
       "      <td>6600.000000</td>\n",
       "      <td>49.000000</td>\n",
       "      <td>54.000000</td>\n",
       "      <td>45400.000000</td>\n",
       "    </tr>\n",
       "  </tbody>\n",
       "</table>\n",
       "</div>"
      ],
      "text/plain": [
       "        symboling   wheelbase   carlength    carwidth   carheight  \\\n",
       "count  205.000000  205.000000  205.000000  205.000000  205.000000   \n",
       "mean     0.834146   98.756585  174.049268   65.907805   53.724878   \n",
       "std      1.245307    6.021776   12.337289    2.145204    2.443522   \n",
       "min     -2.000000   86.600000  141.100000   60.300000   47.800000   \n",
       "25%      0.000000   94.500000  166.300000   64.100000   52.000000   \n",
       "50%      1.000000   97.000000  173.200000   65.500000   54.100000   \n",
       "75%      2.000000  102.400000  183.100000   66.900000   55.500000   \n",
       "max      3.000000  120.900000  208.100000   72.300000   59.800000   \n",
       "\n",
       "        curbweight  enginesize   boreratio      stroke  compressionratio  \\\n",
       "count   205.000000  205.000000  205.000000  205.000000        205.000000   \n",
       "mean   2555.565854  126.907317    3.329756    3.255415         10.142537   \n",
       "std     520.680204   41.642693    0.270844    0.313597          3.972040   \n",
       "min    1488.000000   61.000000    2.540000    2.070000          7.000000   \n",
       "25%    2145.000000   97.000000    3.150000    3.110000          8.600000   \n",
       "50%    2414.000000  120.000000    3.310000    3.290000          9.000000   \n",
       "75%    2935.000000  141.000000    3.580000    3.410000          9.400000   \n",
       "max    4066.000000  326.000000    3.940000    4.170000         23.000000   \n",
       "\n",
       "       horsepower      peakrpm     citympg  highwaympg         price  \n",
       "count  205.000000   205.000000  205.000000  205.000000    205.000000  \n",
       "mean   104.117073  5125.121951   25.219512   30.751220  13276.710571  \n",
       "std     39.544167   476.985643    6.542142    6.886443   7988.852332  \n",
       "min     48.000000  4150.000000   13.000000   16.000000   5118.000000  \n",
       "25%     70.000000  4800.000000   19.000000   25.000000   7788.000000  \n",
       "50%     95.000000  5200.000000   24.000000   30.000000  10295.000000  \n",
       "75%    116.000000  5500.000000   30.000000   34.000000  16503.000000  \n",
       "max    288.000000  6600.000000   49.000000   54.000000  45400.000000  "
      ]
     },
     "execution_count": 5,
     "metadata": {},
     "output_type": "execute_result"
    }
   ],
   "source": [
    "df.describe()"
   ]
  },
  {
   "cell_type": "code",
   "execution_count": 6,
   "metadata": {},
   "outputs": [
    {
     "data": {
      "text/plain": [
       "(205, 25)"
      ]
     },
     "execution_count": 6,
     "metadata": {},
     "output_type": "execute_result"
    }
   ],
   "source": [
    "df.shape"
   ]
  },
  {
   "cell_type": "code",
   "execution_count": 8,
   "metadata": {},
   "outputs": [
    {
     "data": {
      "text/plain": [
       " 0    67\n",
       " 1    54\n",
       " 2    32\n",
       " 3    27\n",
       "-1    22\n",
       "-2     3\n",
       "Name: symboling, dtype: int64"
      ]
     },
     "execution_count": 8,
     "metadata": {},
     "output_type": "execute_result"
    }
   ],
   "source": [
    "# symboling: -2 (least risky) to +3 most risky\n",
    "# Most cars are 0,1,2\n",
    "df['symboling'].astype('category').value_counts()"
   ]
  },
  {
   "cell_type": "code",
   "execution_count": 9,
   "metadata": {},
   "outputs": [
    {
     "data": {
      "text/plain": [
       "std      168\n",
       "turbo     37\n",
       "Name: aspiration, dtype: int64"
      ]
     },
     "execution_count": 9,
     "metadata": {},
     "output_type": "execute_result"
    }
   ],
   "source": [
    "# aspiration: An (internal combustion) engine property showing \n",
    "# whether the oxygen intake is through standard (atmospheric pressure)\n",
    "# or through turbocharging (pressurised oxygen intake)\n",
    "df['aspiration'].astype('category').value_counts()"
   ]
  },
  {
   "cell_type": "code",
   "execution_count": 11,
   "metadata": {},
   "outputs": [
    {
     "data": {
      "text/plain": [
       "fwd    120\n",
       "rwd     76\n",
       "4wd      9\n",
       "Name: drivewheel, dtype: int64"
      ]
     },
     "execution_count": 11,
     "metadata": {},
     "output_type": "execute_result"
    }
   ],
   "source": [
    "# drivewheel: frontwheel, rear wheel or four-wheel drive \n",
    "df['drivewheel'].astype('category').value_counts()"
   ]
  },
  {
   "cell_type": "code",
   "execution_count": 12,
   "metadata": {},
   "outputs": [
    {
     "data": {
      "image/png": "[encoded data removed]",
      "text/plain": [
       "<Figure size 432x288 with 1 Axes>"
      ]
     },
     "metadata": {
      "needs_background": "light"
     },
     "output_type": "display_data"
    }
   ],
   "source": [
    "# wheelbase: distance between centre of front and rear wheels\n",
    "sns.distplot(df['wheelbase'])\n",
    "plt.show()"
   ]
  },
  {
   "cell_type": "code",
   "execution_count": 13,
   "metadata": {},
   "outputs": [
    {
     "data": {
      "text/plain": [
       "<matplotlib.axes._subplots.AxesSubplot at 0x1ffb6604370>"
      ]
     },
     "execution_count": 13,
     "metadata": {},
     "output_type": "execute_result"
    },
    {
     "data": {
      "image/png": "[encoded data removed]",
      "text/plain": [
       "<Figure size 432x288 with 1 Axes>"
      ]
     },
     "metadata": {
      "needs_background": "light"
     },
     "output_type": "display_data"
    }
   ],
   "source": [
    "# curbweight: weight of car without occupants or baggage\n",
    "sns.distplot(df['curbweight'])"
   ]
  },
  {
   "cell_type": "code",
   "execution_count": 14,
   "metadata": {},
   "outputs": [
    {
     "data": {
      "image/png": "[encoded data removed]",
      "text/plain": [
       "<Figure size 432x288 with 1 Axes>"
      ]
     },
     "metadata": {
      "needs_background": "light"
     },
     "output_type": "display_data"
    }
   ],
   "source": [
    "# stroke: volume of the engine (the distance traveled by the \n",
    "# piston in each cycle)\n",
    "sns.distplot(df['stroke'])\n",
    "plt.show()"
   ]
  },
  {
   "cell_type": "code",
   "execution_count": 15,
   "metadata": {},
   "outputs": [
    {
     "data": {
      "image/png": "[encoded data removed]",
      "text/plain": [
       "<Figure size 432x288 with 1 Axes>"
      ]
     },
     "metadata": {
      "needs_background": "light"
     },
     "output_type": "display_data"
    }
   ],
   "source": [
    "# compression ration: ration of volume of compression chamber \n",
    "# at largest capacity to least capacity\n",
    "sns.distplot(df['compressionratio'])\n",
    "plt.show()"
   ]
  },
  {
   "cell_type": "markdown",
   "metadata": {},
   "source": [
    "#### Data Exploration"
   ]
  },
  {
   "cell_type": "markdown",
   "metadata": {},
   "source": [
    "To perform linear regression, the target variable should be linearly related to independent variables. Let's see whether that's true in this case."
   ]
  },
  {
   "cell_type": "code",
   "execution_count": 16,
   "metadata": {},
   "outputs": [
    {
     "data": {
      "text/html": [
       "<div>\n",
       "<style scoped>\n",
       "    .dataframe tbody tr th:only-of-type {\n",
       "        vertical-align: middle;\n",
       "    }\n",
       "\n",
       "    .dataframe tbody tr th {\n",
       "        vertical-align: top;\n",
       "    }\n",
       "\n",
       "    .dataframe thead th {\n",
       "        text-align: right;\n",
       "    }\n",
       "</style>\n",
       "<table border=\"1\" class=\"dataframe\">\n",
       "  <thead>\n",
       "    <tr style=\"text-align: right;\">\n",
       "      <th></th>\n",
       "      <th>symboling</th>\n",
       "      <th>wheelbase</th>\n",
       "      <th>carlength</th>\n",
       "      <th>carwidth</th>\n",
       "      <th>carheight</th>\n",
       "      <th>curbweight</th>\n",
       "      <th>enginesize</th>\n",
       "      <th>boreratio</th>\n",
       "      <th>stroke</th>\n",
       "      <th>compressionratio</th>\n",
       "      <th>horsepower</th>\n",
       "      <th>peakrpm</th>\n",
       "      <th>citympg</th>\n",
       "      <th>highwaympg</th>\n",
       "      <th>price</th>\n",
       "    </tr>\n",
       "  </thead>\n",
       "  <tbody>\n",
       "    <tr>\n",
       "      <th>0</th>\n",
       "      <td>3</td>\n",
       "      <td>88.6</td>\n",
       "      <td>168.8</td>\n",
       "      <td>64.1</td>\n",
       "      <td>48.8</td>\n",
       "      <td>2548</td>\n",
       "      <td>130</td>\n",
       "      <td>3.47</td>\n",
       "      <td>2.68</td>\n",
       "      <td>9.0</td>\n",
       "      <td>111</td>\n",
       "      <td>5000</td>\n",
       "      <td>21</td>\n",
       "      <td>27</td>\n",
       "      <td>13495.0</td>\n",
       "    </tr>\n",
       "    <tr>\n",
       "      <th>1</th>\n",
       "      <td>3</td>\n",
       "      <td>88.6</td>\n",
       "      <td>168.8</td>\n",
       "      <td>64.1</td>\n",
       "      <td>48.8</td>\n",
       "      <td>2548</td>\n",
       "      <td>130</td>\n",
       "      <td>3.47</td>\n",
       "      <td>2.68</td>\n",
       "      <td>9.0</td>\n",
       "      <td>111</td>\n",
       "      <td>5000</td>\n",
       "      <td>21</td>\n",
       "      <td>27</td>\n",
       "      <td>16500.0</td>\n",
       "    </tr>\n",
       "    <tr>\n",
       "      <th>2</th>\n",
       "      <td>1</td>\n",
       "      <td>94.5</td>\n",
       "      <td>171.2</td>\n",
       "      <td>65.5</td>\n",
       "      <td>52.4</td>\n",
       "      <td>2823</td>\n",
       "      <td>152</td>\n",
       "      <td>2.68</td>\n",
       "      <td>3.47</td>\n",
       "      <td>9.0</td>\n",
       "      <td>154</td>\n",
       "      <td>5000</td>\n",
       "      <td>19</td>\n",
       "      <td>26</td>\n",
       "      <td>16500.0</td>\n",
       "    </tr>\n",
       "    <tr>\n",
       "      <th>3</th>\n",
       "      <td>2</td>\n",
       "      <td>99.8</td>\n",
       "      <td>176.6</td>\n",
       "      <td>66.2</td>\n",
       "      <td>54.3</td>\n",
       "      <td>2337</td>\n",
       "      <td>109</td>\n",
       "      <td>3.19</td>\n",
       "      <td>3.40</td>\n",
       "      <td>10.0</td>\n",
       "      <td>102</td>\n",
       "      <td>5500</td>\n",
       "      <td>24</td>\n",
       "      <td>30</td>\n",
       "      <td>13950.0</td>\n",
       "    </tr>\n",
       "    <tr>\n",
       "      <th>4</th>\n",
       "      <td>2</td>\n",
       "      <td>99.4</td>\n",
       "      <td>176.6</td>\n",
       "      <td>66.4</td>\n",
       "      <td>54.3</td>\n",
       "      <td>2824</td>\n",
       "      <td>136</td>\n",
       "      <td>3.19</td>\n",
       "      <td>3.40</td>\n",
       "      <td>8.0</td>\n",
       "      <td>115</td>\n",
       "      <td>5500</td>\n",
       "      <td>18</td>\n",
       "      <td>22</td>\n",
       "      <td>17450.0</td>\n",
       "    </tr>\n",
       "  </tbody>\n",
       "</table>\n",
       "</div>"
      ],
      "text/plain": [
       "   symboling  wheelbase  carlength  carwidth  carheight  curbweight  \\\n",
       "0          3       88.6      168.8      64.1       48.8        2548   \n",
       "1          3       88.6      168.8      64.1       48.8        2548   \n",
       "2          1       94.5      171.2      65.5       52.4        2823   \n",
       "3          2       99.8      176.6      66.2       54.3        2337   \n",
       "4          2       99.4      176.6      66.4       54.3        2824   \n",
       "\n",
       "   enginesize  boreratio  stroke  compressionratio  horsepower  peakrpm  \\\n",
       "0         130       3.47    2.68               9.0         111     5000   \n",
       "1         130       3.47    2.68               9.0         111     5000   \n",
       "2         152       2.68    3.47               9.0         154     5000   \n",
       "3         109       3.19    3.40              10.0         102     5500   \n",
       "4         136       3.19    3.40               8.0         115     5500   \n",
       "\n",
       "   citympg  highwaympg    price  \n",
       "0       21          27  13495.0  \n",
       "1       21          27  16500.0  \n",
       "2       19          26  16500.0  \n",
       "3       24          30  13950.0  \n",
       "4       18          22  17450.0  "
      ]
     },
     "execution_count": 16,
     "metadata": {},
     "output_type": "execute_result"
    }
   ],
   "source": [
    "\n",
    "#creating df  with numeric var's only\n",
    "cars_numeric=df.select_dtypes(include=['float64','int64'])\n",
    "cars_numeric.head()"
   ]
  },
  {
   "cell_type": "code",
   "execution_count": 18,
   "metadata": {},
   "outputs": [
    {
     "data": {
      "text/html": [
       "<div>\n",
       "<style scoped>\n",
       "    .dataframe tbody tr th:only-of-type {\n",
       "        vertical-align: middle;\n",
       "    }\n",
       "\n",
       "    .dataframe tbody tr th {\n",
       "        vertical-align: top;\n",
       "    }\n",
       "\n",
       "    .dataframe thead th {\n",
       "        text-align: right;\n",
       "    }\n",
       "</style>\n",
       "<table border=\"1\" class=\"dataframe\">\n",
       "  <thead>\n",
       "    <tr style=\"text-align: right;\">\n",
       "      <th></th>\n",
       "      <th>wheelbase</th>\n",
       "      <th>carlength</th>\n",
       "      <th>carwidth</th>\n",
       "      <th>carheight</th>\n",
       "      <th>curbweight</th>\n",
       "      <th>enginesize</th>\n",
       "      <th>boreratio</th>\n",
       "      <th>stroke</th>\n",
       "      <th>compressionratio</th>\n",
       "      <th>horsepower</th>\n",
       "      <th>peakrpm</th>\n",
       "      <th>citympg</th>\n",
       "      <th>highwaympg</th>\n",
       "      <th>price</th>\n",
       "    </tr>\n",
       "  </thead>\n",
       "  <tbody>\n",
       "    <tr>\n",
       "      <th>0</th>\n",
       "      <td>88.6</td>\n",
       "      <td>168.8</td>\n",
       "      <td>64.1</td>\n",
       "      <td>48.8</td>\n",
       "      <td>2548</td>\n",
       "      <td>130</td>\n",
       "      <td>3.47</td>\n",
       "      <td>2.68</td>\n",
       "      <td>9.0</td>\n",
       "      <td>111</td>\n",
       "      <td>5000</td>\n",
       "      <td>21</td>\n",
       "      <td>27</td>\n",
       "      <td>13495.0</td>\n",
       "    </tr>\n",
       "    <tr>\n",
       "      <th>1</th>\n",
       "      <td>88.6</td>\n",
       "      <td>168.8</td>\n",
       "      <td>64.1</td>\n",
       "      <td>48.8</td>\n",
       "      <td>2548</td>\n",
       "      <td>130</td>\n",
       "      <td>3.47</td>\n",
       "      <td>2.68</td>\n",
       "      <td>9.0</td>\n",
       "      <td>111</td>\n",
       "      <td>5000</td>\n",
       "      <td>21</td>\n",
       "      <td>27</td>\n",
       "      <td>16500.0</td>\n",
       "    </tr>\n",
       "    <tr>\n",
       "      <th>2</th>\n",
       "      <td>94.5</td>\n",
       "      <td>171.2</td>\n",
       "      <td>65.5</td>\n",
       "      <td>52.4</td>\n",
       "      <td>2823</td>\n",
       "      <td>152</td>\n",
       "      <td>2.68</td>\n",
       "      <td>3.47</td>\n",
       "      <td>9.0</td>\n",
       "      <td>154</td>\n",
       "      <td>5000</td>\n",
       "      <td>19</td>\n",
       "      <td>26</td>\n",
       "      <td>16500.0</td>\n",
       "    </tr>\n",
       "    <tr>\n",
       "      <th>3</th>\n",
       "      <td>99.8</td>\n",
       "      <td>176.6</td>\n",
       "      <td>66.2</td>\n",
       "      <td>54.3</td>\n",
       "      <td>2337</td>\n",
       "      <td>109</td>\n",
       "      <td>3.19</td>\n",
       "      <td>3.40</td>\n",
       "      <td>10.0</td>\n",
       "      <td>102</td>\n",
       "      <td>5500</td>\n",
       "      <td>24</td>\n",
       "      <td>30</td>\n",
       "      <td>13950.0</td>\n",
       "    </tr>\n",
       "    <tr>\n",
       "      <th>4</th>\n",
       "      <td>99.4</td>\n",
       "      <td>176.6</td>\n",
       "      <td>66.4</td>\n",
       "      <td>54.3</td>\n",
       "      <td>2824</td>\n",
       "      <td>136</td>\n",
       "      <td>3.19</td>\n",
       "      <td>3.40</td>\n",
       "      <td>8.0</td>\n",
       "      <td>115</td>\n",
       "      <td>5500</td>\n",
       "      <td>18</td>\n",
       "      <td>22</td>\n",
       "      <td>17450.0</td>\n",
       "    </tr>\n",
       "  </tbody>\n",
       "</table>\n",
       "</div>"
      ],
      "text/plain": [
       "   wheelbase  carlength  carwidth  carheight  curbweight  enginesize  \\\n",
       "0       88.6      168.8      64.1       48.8        2548         130   \n",
       "1       88.6      168.8      64.1       48.8        2548         130   \n",
       "2       94.5      171.2      65.5       52.4        2823         152   \n",
       "3       99.8      176.6      66.2       54.3        2337         109   \n",
       "4       99.4      176.6      66.4       54.3        2824         136   \n",
       "\n",
       "   boreratio  stroke  compressionratio  horsepower  peakrpm  citympg  \\\n",
       "0       3.47    2.68               9.0         111     5000       21   \n",
       "1       3.47    2.68               9.0         111     5000       21   \n",
       "2       2.68    3.47               9.0         154     5000       19   \n",
       "3       3.19    3.40              10.0         102     5500       24   \n",
       "4       3.19    3.40               8.0         115     5500       18   \n",
       "\n",
       "   highwaympg    price  \n",
       "0          27  13495.0  \n",
       "1          27  16500.0  \n",
       "2          26  16500.0  \n",
       "3          30  13950.0  \n",
       "4          22  17450.0  "
      ]
     },
     "execution_count": 18,
     "metadata": {},
     "output_type": "execute_result"
    }
   ],
   "source": [
    "# dropping symboling and car_ID as symboling is more of categorical variable as described before and car_ID is only \n",
    "#an index type variable and not a predictor\n",
    "cars_numeric = cars_numeric.drop(['symboling'], axis=1)\n",
    "cars_numeric.head()"
   ]
  },
  {
   "cell_type": "code",
   "execution_count": 19,
   "metadata": {},
   "outputs": [
    {
     "data": {
      "image/png": "[encoded data removed]",
      "text/plain": [
       "<Figure size 432x288 with 1 Axes>"
      ]
     },
     "metadata": {
      "needs_background": "light"
     },
     "output_type": "display_data"
    },
    {
     "data": {
      "image/png": "[encoded data removed]",
      "text/plain": [
       "<Figure size 432x288 with 1 Axes>"
      ]
     },
     "metadata": {
      "needs_background": "light"
     },
     "output_type": "display_data"
    },
    {
     "data": {
      "image/png": "[encoded data removed]",
      "text/plain": [
       "<Figure size 432x288 with 1 Axes>"
      ]
     },
     "metadata": {
      "needs_background": "light"
     },
     "output_type": "display_data"
    },
    {
     "data": {
      "image/png": "[encoded data removed]",
      "text/plain": [
       "<Figure size 432x288 with 1 Axes>"
      ]
     },
     "metadata": {
      "needs_background": "light"
     },
     "output_type": "display_data"
    },
    {
     "data": {
      "image/png": "[encoded data removed]",
      "text/plain": [
       "<Figure size 432x288 with 1 Axes>"
      ]
     },
     "metadata": {
      "needs_background": "light"
     },
     "output_type": "display_data"
    },
    {
     "data": {
      "image/png": "[encoded data removed]",
      "text/plain": [
       "<Figure size 432x288 with 1 Axes>"
      ]
     },
     "metadata": {
      "needs_background": "light"
     },
     "output_type": "display_data"
    },
    {
     "data": {
      "image/png": "[encoded data removed]",
      "text/plain": [
       "<Figure size 432x288 with 1 Axes>"
      ]
     },
     "metadata": {
      "needs_background": "light"
     },
     "output_type": "display_data"
    },
    {
     "data": {
      "image/png": "[encoded data removed]",
      "text/plain": [
       "<Figure size 432x288 with 1 Axes>"
      ]
     },
     "metadata": {
      "needs_background": "light"
     },
     "output_type": "display_data"
    },
    {
     "data": {
      "image/png": "[encoded data removed]",
      "text/plain": [
       "<Figure size 432x288 with 1 Axes>"
      ]
     },
     "metadata": {
      "needs_background": "light"
     },
     "output_type": "display_data"
    },
    {
     "data": {
      "image/png": "[encoded data removed]",
      "text/plain": [
       "<Figure size 432x288 with 1 Axes>"
      ]
     },
     "metadata": {
      "needs_background": "light"
     },
     "output_type": "display_data"
    },
    {
     "data": {
      "image/png": "[encoded data removed]",
      "text/plain": [
       "<Figure size 432x288 with 1 Axes>"
      ]
     },
     "metadata": {
      "needs_background": "light"
     },
     "output_type": "display_data"
    },
    {
     "data": {
      "image/png": "[encoded data removed]",
      "text/plain": [
       "<Figure size 432x288 with 1 Axes>"
      ]
     },
     "metadata": {
      "needs_background": "light"
     },
     "output_type": "display_data"
    },
    {
     "data": {
      "image/png": "[encoded data removed]",
      "text/plain": [
       "<Figure size 432x288 with 1 Axes>"
      ]
     },
     "metadata": {
      "needs_background": "light"
     },
     "output_type": "display_data"
    },
    {
     "data": {
      "image/png": "[encoded data removed]",
      "text/plain": [
       "<Figure size 432x288 with 1 Axes>"
      ]
     },
     "metadata": {
      "needs_background": "light"
     },
     "output_type": "display_data"
    }
   ],
   "source": [
    "#LINEARITY CHECK>>>#to check price has linear relation or not with Indep. var's\n",
    "\n",
    "for i, col in enumerate (cars_numeric.columns):\n",
    "    plt.figure(i)\n",
    "    sns.scatterplot(x=cars_numeric[col],y=cars_numeric['price'])"
   ]
  },
  {
   "cell_type": "markdown",
   "metadata": {},
   "source": [
    "- These var's appears to have a linear relation with price: carwidth, curbweight, enginesize, horsepower, boreration and citympg.\n",
    "\n",
    "- Other variables either don't have a relation with price or relationship isn't strong. None of the varibales appear to have polynomial relation with price.\n",
    "\n",
    "- In linear regression assumptions validation section we will check for linearity assumption in details."
   ]
  },
  {
   "cell_type": "markdown",
   "metadata": {},
   "source": [
    "#### Correlation matrix"
   ]
  },
  {
   "cell_type": "code",
   "execution_count": 20,
   "metadata": {},
   "outputs": [
    {
     "data": {
      "text/plain": [
       "<matplotlib.axes._subplots.AxesSubplot at 0x1ffb6809ac0>"
      ]
     },
     "execution_count": 20,
     "metadata": {},
     "output_type": "execute_result"
    },
    {
     "data": {
      "image/png": "[encoded data removed]",
      "text/plain": [
       "<Figure size 1080x576 with 2 Axes>"
      ]
     },
     "metadata": {
      "needs_background": "light"
     },
     "output_type": "display_data"
    }
   ],
   "source": [
    "corr=cars_numeric.corr()\n",
    "\n",
    "plt.figure(figsize=(15,8))\n",
    "sns.heatmap(corr,annot=True,cmap=\"YlGnBu\")"
   ]
  },
  {
   "cell_type": "markdown",
   "metadata": {},
   "source": [
    "## Section 2: Data Cleaning: Missing values and feature data type check"
   ]
  },
  {
   "cell_type": "code",
   "execution_count": 22,
   "metadata": {},
   "outputs": [
    {
     "name": "stdout",
     "output_type": "stream",
     "text": [
      "<class 'pandas.core.frame.DataFrame'>\n",
      "RangeIndex: 205 entries, 0 to 204\n",
      "Data columns (total 25 columns):\n",
      " #   Column            Non-Null Count  Dtype  \n",
      "---  ------            --------------  -----  \n",
      " 0   symboling         205 non-null    int64  \n",
      " 1   make              205 non-null    object \n",
      " 2   fueltype          205 non-null    object \n",
      " 3   aspiration        205 non-null    object \n",
      " 4   doornumber        205 non-null    object \n",
      " 5   carbody           205 non-null    object \n",
      " 6   drivewheel        205 non-null    object \n",
      " 7   enginelocation    205 non-null    object \n",
      " 8   wheelbase         205 non-null    float64\n",
      " 9   carlength         205 non-null    float64\n",
      " 10  carwidth          205 non-null    float64\n",
      " 11  carheight         205 non-null    float64\n",
      " 12  curbweight        205 non-null    int64  \n",
      " 13  enginetype        205 non-null    object \n",
      " 14  cylindernumber    205 non-null    object \n",
      " 15  enginesize        205 non-null    int64  \n",
      " 16  fuelsystem        205 non-null    object \n",
      " 17  boreratio         205 non-null    float64\n",
      " 18  stroke            205 non-null    float64\n",
      " 19  compressionratio  205 non-null    float64\n",
      " 20  horsepower        205 non-null    int64  \n",
      " 21  peakrpm           205 non-null    int64  \n",
      " 22  citympg           205 non-null    int64  \n",
      " 23  highwaympg        205 non-null    int64  \n",
      " 24  price             205 non-null    float64\n",
      "dtypes: float64(8), int64(7), object(10)\n",
      "memory usage: 40.2+ KB\n"
     ]
    }
   ],
   "source": [
    "df.info()\n",
    "#no missing values\n",
    "#all var's in correct format, however since symboling is a categorical var we need to change its type"
   ]
  },
  {
   "cell_type": "code",
   "execution_count": 23,
   "metadata": {},
   "outputs": [
    {
     "name": "stdout",
     "output_type": "stream",
     "text": [
      "<class 'pandas.core.frame.DataFrame'>\n",
      "RangeIndex: 205 entries, 0 to 204\n",
      "Data columns (total 25 columns):\n",
      " #   Column            Non-Null Count  Dtype  \n",
      "---  ------            --------------  -----  \n",
      " 0   symboling         205 non-null    object \n",
      " 1   make              205 non-null    object \n",
      " 2   fueltype          205 non-null    object \n",
      " 3   aspiration        205 non-null    object \n",
      " 4   doornumber        205 non-null    object \n",
      " 5   carbody           205 non-null    object \n",
      " 6   drivewheel        205 non-null    object \n",
      " 7   enginelocation    205 non-null    object \n",
      " 8   wheelbase         205 non-null    float64\n",
      " 9   carlength         205 non-null    float64\n",
      " 10  carwidth          205 non-null    float64\n",
      " 11  carheight         205 non-null    float64\n",
      " 12  curbweight        205 non-null    int64  \n",
      " 13  enginetype        205 non-null    object \n",
      " 14  cylindernumber    205 non-null    object \n",
      " 15  enginesize        205 non-null    int64  \n",
      " 16  fuelsystem        205 non-null    object \n",
      " 17  boreratio         205 non-null    float64\n",
      " 18  stroke            205 non-null    float64\n",
      " 19  compressionratio  205 non-null    float64\n",
      " 20  horsepower        205 non-null    int64  \n",
      " 21  peakrpm           205 non-null    int64  \n",
      " 22  citympg           205 non-null    int64  \n",
      " 23  highwaympg        205 non-null    int64  \n",
      " 24  price             205 non-null    float64\n",
      "dtypes: float64(8), int64(6), object(11)\n",
      "memory usage: 40.2+ KB\n"
     ]
    }
   ],
   "source": [
    "# converting symboling to categorical\n",
    "df['symboling'] = df['symboling'].astype('object')\n",
    "df.info()"
   ]
  },
  {
   "cell_type": "code",
   "execution_count": 24,
   "metadata": {},
   "outputs": [
    {
     "data": {
      "text/plain": [
       "0    alfa-romero\n",
       "1    alfa-romero\n",
       "2    alfa-romero\n",
       "3           audi\n",
       "4           audi\n",
       "5           audi\n",
       "6           audi\n",
       "7           audi\n",
       "8           audi\n",
       "9           audi\n",
       "Name: make, dtype: object"
      ]
     },
     "execution_count": 24,
     "metadata": {},
     "output_type": "execute_result"
    }
   ],
   "source": [
    "#Extracting car names. car name is the first word (before space)\n",
    "carnames = df['make'].apply(lambda x: x.split(\" \")[0])\n",
    "carnames[:10]"
   ]
  },
  {
   "cell_type": "code",
   "execution_count": 25,
   "metadata": {},
   "outputs": [
    {
     "data": {
      "text/plain": [
       "toyota         31\n",
       "nissan         17\n",
       "mazda          15\n",
       "honda          13\n",
       "mitsubishi     13\n",
       "subaru         12\n",
       "volvo          11\n",
       "peugeot        11\n",
       "dodge           9\n",
       "volkswagen      9\n",
       "bmw             8\n",
       "buick           8\n",
       "plymouth        7\n",
       "audi            7\n",
       "saab            6\n",
       "porsche         4\n",
       "isuzu           4\n",
       "chevrolet       3\n",
       "alfa-romero     3\n",
       "jaguar          3\n",
       "renault         2\n",
       "vw              2\n",
       "maxda           2\n",
       "Nissan          1\n",
       "toyouta         1\n",
       "mercury         1\n",
       "porcshce        1\n",
       "vokswagen       1\n",
       "Name: car_company, dtype: int64"
      ]
     },
     "execution_count": 25,
     "metadata": {},
     "output_type": "execute_result"
    }
   ],
   "source": [
    "df['car_company']=carnames\n",
    "df['car_company'].value_counts()\n",
    "#many car names are duplicates like toyota and toyouta, porsche and porcshce etc.\n",
    "# we need to fix incorrect spelling and get carnames column in order"
   ]
  },
  {
   "cell_type": "code",
   "execution_count": 26,
   "metadata": {},
   "outputs": [
    {
     "data": {
      "text/plain": [
       "toyota         32\n",
       "nissan         18\n",
       "mazda          17\n",
       "mitsubishi     13\n",
       "honda          13\n",
       "volkswagen     12\n",
       "subaru         12\n",
       "volvo          11\n",
       "peugeot        11\n",
       "dodge           9\n",
       "buick           8\n",
       "bmw             8\n",
       "plymouth        7\n",
       "audi            7\n",
       "saab            6\n",
       "porsche         5\n",
       "isuzu           4\n",
       "chevrolet       3\n",
       "alfa-romero     3\n",
       "jaguar          3\n",
       "renault         2\n",
       "mercury         1\n",
       "Name: car_company, dtype: int64"
      ]
     },
     "execution_count": 26,
     "metadata": {},
     "output_type": "execute_result"
    }
   ],
   "source": [
    "#volkswagen\n",
    "df.loc[(df['car_company']==\"vw\")|(df['car_company']==\"vokswagen\"),\"car_company\"]=\"volkswagen\"\n",
    "\n",
    "#porsche\n",
    "\n",
    "df.loc[(df['car_company']==\"porcshce\"),\"car_company\"]=\"porsche\"\n",
    "\n",
    "#toyota\n",
    "df.loc[(df['car_company']==\"toyouta\"),\"car_company\"]=\"toyota\"\n",
    "\n",
    "# nissan\n",
    "df.loc[df['car_company'] == \"Nissan\", 'car_company'] = 'nissan'\n",
    "\n",
    "# mazda\n",
    "df.loc[df['car_company'] == \"maxda\", 'car_company'] = 'mazda'\n",
    "\n",
    "df['car_company'].value_counts()"
   ]
  },
  {
   "cell_type": "code",
   "execution_count": 28,
   "metadata": {},
   "outputs": [],
   "source": [
    "# drop makecarname variable\n",
    "df = df.drop('make', axis=1)"
   ]
  },
  {
   "cell_type": "code",
   "execution_count": 29,
   "metadata": {},
   "outputs": [
    {
     "name": "stdout",
     "output_type": "stream",
     "text": [
      "<class 'pandas.core.frame.DataFrame'>\n",
      "RangeIndex: 205 entries, 0 to 204\n",
      "Data columns (total 25 columns):\n",
      " #   Column            Non-Null Count  Dtype  \n",
      "---  ------            --------------  -----  \n",
      " 0   symboling         205 non-null    object \n",
      " 1   fueltype          205 non-null    object \n",
      " 2   aspiration        205 non-null    object \n",
      " 3   doornumber        205 non-null    object \n",
      " 4   carbody           205 non-null    object \n",
      " 5   drivewheel        205 non-null    object \n",
      " 6   enginelocation    205 non-null    object \n",
      " 7   wheelbase         205 non-null    float64\n",
      " 8   carlength         205 non-null    float64\n",
      " 9   carwidth          205 non-null    float64\n",
      " 10  carheight         205 non-null    float64\n",
      " 11  curbweight        205 non-null    int64  \n",
      " 12  enginetype        205 non-null    object \n",
      " 13  cylindernumber    205 non-null    object \n",
      " 14  enginesize        205 non-null    int64  \n",
      " 15  fuelsystem        205 non-null    object \n",
      " 16  boreratio         205 non-null    float64\n",
      " 17  stroke            205 non-null    float64\n",
      " 18  compressionratio  205 non-null    float64\n",
      " 19  horsepower        205 non-null    int64  \n",
      " 20  peakrpm           205 non-null    int64  \n",
      " 21  citympg           205 non-null    int64  \n",
      " 22  highwaympg        205 non-null    int64  \n",
      " 23  price             205 non-null    float64\n",
      " 24  car_company       205 non-null    object \n",
      "dtypes: float64(8), int64(6), object(11)\n",
      "memory usage: 40.2+ KB\n"
     ]
    }
   ],
   "source": [
    "df.info()"
   ]
  },
  {
   "cell_type": "markdown",
   "metadata": {},
   "source": [
    "## Section 3. Data Preparation: feature engineering"
   ]
  },
  {
   "cell_type": "code",
   "execution_count": 30,
   "metadata": {},
   "outputs": [],
   "source": [
    "X=df.drop(columns=['price'])\n",
    "y=df['price']"
   ]
  },
  {
   "cell_type": "code",
   "execution_count": 31,
   "metadata": {},
   "outputs": [
    {
     "data": {
      "text/html": [
       "<div>\n",
       "<style scoped>\n",
       "    .dataframe tbody tr th:only-of-type {\n",
       "        vertical-align: middle;\n",
       "    }\n",
       "\n",
       "    .dataframe tbody tr th {\n",
       "        vertical-align: top;\n",
       "    }\n",
       "\n",
       "    .dataframe thead th {\n",
       "        text-align: right;\n",
       "    }\n",
       "</style>\n",
       "<table border=\"1\" class=\"dataframe\">\n",
       "  <thead>\n",
       "    <tr style=\"text-align: right;\">\n",
       "      <th></th>\n",
       "      <th>symboling</th>\n",
       "      <th>fueltype</th>\n",
       "      <th>aspiration</th>\n",
       "      <th>doornumber</th>\n",
       "      <th>carbody</th>\n",
       "      <th>drivewheel</th>\n",
       "      <th>enginelocation</th>\n",
       "      <th>enginetype</th>\n",
       "      <th>cylindernumber</th>\n",
       "      <th>fuelsystem</th>\n",
       "      <th>car_company</th>\n",
       "    </tr>\n",
       "  </thead>\n",
       "  <tbody>\n",
       "    <tr>\n",
       "      <th>0</th>\n",
       "      <td>3</td>\n",
       "      <td>gas</td>\n",
       "      <td>std</td>\n",
       "      <td>two</td>\n",
       "      <td>convertible</td>\n",
       "      <td>rwd</td>\n",
       "      <td>front</td>\n",
       "      <td>dohc</td>\n",
       "      <td>four</td>\n",
       "      <td>mpfi</td>\n",
       "      <td>alfa-romero</td>\n",
       "    </tr>\n",
       "    <tr>\n",
       "      <th>1</th>\n",
       "      <td>3</td>\n",
       "      <td>gas</td>\n",
       "      <td>std</td>\n",
       "      <td>two</td>\n",
       "      <td>convertible</td>\n",
       "      <td>rwd</td>\n",
       "      <td>front</td>\n",
       "      <td>dohc</td>\n",
       "      <td>four</td>\n",
       "      <td>mpfi</td>\n",
       "      <td>alfa-romero</td>\n",
       "    </tr>\n",
       "  </tbody>\n",
       "</table>\n",
       "</div>"
      ],
      "text/plain": [
       "  symboling fueltype aspiration doornumber      carbody drivewheel  \\\n",
       "0         3      gas        std        two  convertible        rwd   \n",
       "1         3      gas        std        two  convertible        rwd   \n",
       "\n",
       "  enginelocation enginetype cylindernumber fuelsystem  car_company  \n",
       "0          front       dohc           four       mpfi  alfa-romero  \n",
       "1          front       dohc           four       mpfi  alfa-romero  "
      ]
     },
     "execution_count": 31,
     "metadata": {},
     "output_type": "execute_result"
    }
   ],
   "source": [
    "# creating dummy variables for categorical variables\n",
    "\n",
    "cars_categorical = X.select_dtypes(include=['object'])\n",
    "cars_categorical.head(2)"
   ]
  },
  {
   "cell_type": "code",
   "execution_count": 32,
   "metadata": {},
   "outputs": [
    {
     "data": {
      "text/html": [
       "<div>\n",
       "<style scoped>\n",
       "    .dataframe tbody tr th:only-of-type {\n",
       "        vertical-align: middle;\n",
       "    }\n",
       "\n",
       "    .dataframe tbody tr th {\n",
       "        vertical-align: top;\n",
       "    }\n",
       "\n",
       "    .dataframe thead th {\n",
       "        text-align: right;\n",
       "    }\n",
       "</style>\n",
       "<table border=\"1\" class=\"dataframe\">\n",
       "  <thead>\n",
       "    <tr style=\"text-align: right;\">\n",
       "      <th></th>\n",
       "      <th>symboling_-1</th>\n",
       "      <th>symboling_0</th>\n",
       "      <th>symboling_1</th>\n",
       "      <th>symboling_2</th>\n",
       "      <th>symboling_3</th>\n",
       "      <th>fueltype_gas</th>\n",
       "      <th>aspiration_turbo</th>\n",
       "      <th>doornumber_two</th>\n",
       "      <th>carbody_hardtop</th>\n",
       "      <th>carbody_hatchback</th>\n",
       "      <th>...</th>\n",
       "      <th>car_company_nissan</th>\n",
       "      <th>car_company_peugeot</th>\n",
       "      <th>car_company_plymouth</th>\n",
       "      <th>car_company_porsche</th>\n",
       "      <th>car_company_renault</th>\n",
       "      <th>car_company_saab</th>\n",
       "      <th>car_company_subaru</th>\n",
       "      <th>car_company_toyota</th>\n",
       "      <th>car_company_volkswagen</th>\n",
       "      <th>car_company_volvo</th>\n",
       "    </tr>\n",
       "  </thead>\n",
       "  <tbody>\n",
       "    <tr>\n",
       "      <th>0</th>\n",
       "      <td>0</td>\n",
       "      <td>0</td>\n",
       "      <td>0</td>\n",
       "      <td>0</td>\n",
       "      <td>1</td>\n",
       "      <td>1</td>\n",
       "      <td>0</td>\n",
       "      <td>1</td>\n",
       "      <td>0</td>\n",
       "      <td>0</td>\n",
       "      <td>...</td>\n",
       "      <td>0</td>\n",
       "      <td>0</td>\n",
       "      <td>0</td>\n",
       "      <td>0</td>\n",
       "      <td>0</td>\n",
       "      <td>0</td>\n",
       "      <td>0</td>\n",
       "      <td>0</td>\n",
       "      <td>0</td>\n",
       "      <td>0</td>\n",
       "    </tr>\n",
       "    <tr>\n",
       "      <th>1</th>\n",
       "      <td>0</td>\n",
       "      <td>0</td>\n",
       "      <td>0</td>\n",
       "      <td>0</td>\n",
       "      <td>1</td>\n",
       "      <td>1</td>\n",
       "      <td>0</td>\n",
       "      <td>1</td>\n",
       "      <td>0</td>\n",
       "      <td>0</td>\n",
       "      <td>...</td>\n",
       "      <td>0</td>\n",
       "      <td>0</td>\n",
       "      <td>0</td>\n",
       "      <td>0</td>\n",
       "      <td>0</td>\n",
       "      <td>0</td>\n",
       "      <td>0</td>\n",
       "      <td>0</td>\n",
       "      <td>0</td>\n",
       "      <td>0</td>\n",
       "    </tr>\n",
       "    <tr>\n",
       "      <th>2</th>\n",
       "      <td>0</td>\n",
       "      <td>0</td>\n",
       "      <td>1</td>\n",
       "      <td>0</td>\n",
       "      <td>0</td>\n",
       "      <td>1</td>\n",
       "      <td>0</td>\n",
       "      <td>1</td>\n",
       "      <td>0</td>\n",
       "      <td>1</td>\n",
       "      <td>...</td>\n",
       "      <td>0</td>\n",
       "      <td>0</td>\n",
       "      <td>0</td>\n",
       "      <td>0</td>\n",
       "      <td>0</td>\n",
       "      <td>0</td>\n",
       "      <td>0</td>\n",
       "      <td>0</td>\n",
       "      <td>0</td>\n",
       "      <td>0</td>\n",
       "    </tr>\n",
       "    <tr>\n",
       "      <th>3</th>\n",
       "      <td>0</td>\n",
       "      <td>0</td>\n",
       "      <td>0</td>\n",
       "      <td>1</td>\n",
       "      <td>0</td>\n",
       "      <td>1</td>\n",
       "      <td>0</td>\n",
       "      <td>0</td>\n",
       "      <td>0</td>\n",
       "      <td>0</td>\n",
       "      <td>...</td>\n",
       "      <td>0</td>\n",
       "      <td>0</td>\n",
       "      <td>0</td>\n",
       "      <td>0</td>\n",
       "      <td>0</td>\n",
       "      <td>0</td>\n",
       "      <td>0</td>\n",
       "      <td>0</td>\n",
       "      <td>0</td>\n",
       "      <td>0</td>\n",
       "    </tr>\n",
       "    <tr>\n",
       "      <th>4</th>\n",
       "      <td>0</td>\n",
       "      <td>0</td>\n",
       "      <td>0</td>\n",
       "      <td>1</td>\n",
       "      <td>0</td>\n",
       "      <td>1</td>\n",
       "      <td>0</td>\n",
       "      <td>0</td>\n",
       "      <td>0</td>\n",
       "      <td>0</td>\n",
       "      <td>...</td>\n",
       "      <td>0</td>\n",
       "      <td>0</td>\n",
       "      <td>0</td>\n",
       "      <td>0</td>\n",
       "      <td>0</td>\n",
       "      <td>0</td>\n",
       "      <td>0</td>\n",
       "      <td>0</td>\n",
       "      <td>0</td>\n",
       "      <td>0</td>\n",
       "    </tr>\n",
       "  </tbody>\n",
       "</table>\n",
       "<p>5 rows × 55 columns</p>\n",
       "</div>"
      ],
      "text/plain": [
       "   symboling_-1  symboling_0  symboling_1  symboling_2  symboling_3  \\\n",
       "0             0            0            0            0            1   \n",
       "1             0            0            0            0            1   \n",
       "2             0            0            1            0            0   \n",
       "3             0            0            0            1            0   \n",
       "4             0            0            0            1            0   \n",
       "\n",
       "   fueltype_gas  aspiration_turbo  doornumber_two  carbody_hardtop  \\\n",
       "0             1                 0               1                0   \n",
       "1             1                 0               1                0   \n",
       "2             1                 0               1                0   \n",
       "3             1                 0               0                0   \n",
       "4             1                 0               0                0   \n",
       "\n",
       "   carbody_hatchback  ...  car_company_nissan  car_company_peugeot  \\\n",
       "0                  0  ...                   0                    0   \n",
       "1                  0  ...                   0                    0   \n",
       "2                  1  ...                   0                    0   \n",
       "3                  0  ...                   0                    0   \n",
       "4                  0  ...                   0                    0   \n",
       "\n",
       "   car_company_plymouth  car_company_porsche  car_company_renault  \\\n",
       "0                     0                    0                    0   \n",
       "1                     0                    0                    0   \n",
       "2                     0                    0                    0   \n",
       "3                     0                    0                    0   \n",
       "4                     0                    0                    0   \n",
       "\n",
       "   car_company_saab  car_company_subaru  car_company_toyota  \\\n",
       "0                 0                   0                   0   \n",
       "1                 0                   0                   0   \n",
       "2                 0                   0                   0   \n",
       "3                 0                   0                   0   \n",
       "4                 0                   0                   0   \n",
       "\n",
       "   car_company_volkswagen  car_company_volvo  \n",
       "0                       0                  0  \n",
       "1                       0                  0  \n",
       "2                       0                  0  \n",
       "3                       0                  0  \n",
       "4                       0                  0  \n",
       "\n",
       "[5 rows x 55 columns]"
      ]
     },
     "execution_count": 32,
     "metadata": {},
     "output_type": "execute_result"
    }
   ],
   "source": [
    "#creating dummy variables\n",
    "cars_dummies = pd.get_dummies(cars_categorical, drop_first=True)\n",
    "cars_dummies.head()"
   ]
  },
  {
   "cell_type": "code",
   "execution_count": 33,
   "metadata": {},
   "outputs": [
    {
     "data": {
      "text/html": [
       "<div>\n",
       "<style scoped>\n",
       "    .dataframe tbody tr th:only-of-type {\n",
       "        vertical-align: middle;\n",
       "    }\n",
       "\n",
       "    .dataframe tbody tr th {\n",
       "        vertical-align: top;\n",
       "    }\n",
       "\n",
       "    .dataframe thead th {\n",
       "        text-align: right;\n",
       "    }\n",
       "</style>\n",
       "<table border=\"1\" class=\"dataframe\">\n",
       "  <thead>\n",
       "    <tr style=\"text-align: right;\">\n",
       "      <th></th>\n",
       "      <th>wheelbase</th>\n",
       "      <th>carlength</th>\n",
       "      <th>carwidth</th>\n",
       "      <th>carheight</th>\n",
       "      <th>curbweight</th>\n",
       "      <th>enginesize</th>\n",
       "      <th>boreratio</th>\n",
       "      <th>stroke</th>\n",
       "      <th>compressionratio</th>\n",
       "      <th>horsepower</th>\n",
       "      <th>peakrpm</th>\n",
       "      <th>citympg</th>\n",
       "      <th>highwaympg</th>\n",
       "    </tr>\n",
       "  </thead>\n",
       "  <tbody>\n",
       "    <tr>\n",
       "      <th>0</th>\n",
       "      <td>88.6</td>\n",
       "      <td>168.8</td>\n",
       "      <td>64.1</td>\n",
       "      <td>48.8</td>\n",
       "      <td>2548</td>\n",
       "      <td>130</td>\n",
       "      <td>3.47</td>\n",
       "      <td>2.68</td>\n",
       "      <td>9.0</td>\n",
       "      <td>111</td>\n",
       "      <td>5000</td>\n",
       "      <td>21</td>\n",
       "      <td>27</td>\n",
       "    </tr>\n",
       "    <tr>\n",
       "      <th>1</th>\n",
       "      <td>88.6</td>\n",
       "      <td>168.8</td>\n",
       "      <td>64.1</td>\n",
       "      <td>48.8</td>\n",
       "      <td>2548</td>\n",
       "      <td>130</td>\n",
       "      <td>3.47</td>\n",
       "      <td>2.68</td>\n",
       "      <td>9.0</td>\n",
       "      <td>111</td>\n",
       "      <td>5000</td>\n",
       "      <td>21</td>\n",
       "      <td>27</td>\n",
       "    </tr>\n",
       "  </tbody>\n",
       "</table>\n",
       "</div>"
      ],
      "text/plain": [
       "   wheelbase  carlength  carwidth  carheight  curbweight  enginesize  \\\n",
       "0       88.6      168.8      64.1       48.8        2548         130   \n",
       "1       88.6      168.8      64.1       48.8        2548         130   \n",
       "\n",
       "   boreratio  stroke  compressionratio  horsepower  peakrpm  citympg  \\\n",
       "0       3.47    2.68               9.0         111     5000       21   \n",
       "1       3.47    2.68               9.0         111     5000       21   \n",
       "\n",
       "   highwaympg  \n",
       "0          27  \n",
       "1          27  "
      ]
     },
     "execution_count": 33,
     "metadata": {},
     "output_type": "execute_result"
    }
   ],
   "source": [
    "\n",
    "X=X.drop(columns=cars_categorical)\n",
    "X.head(2)"
   ]
  },
  {
   "cell_type": "code",
   "execution_count": 34,
   "metadata": {},
   "outputs": [
    {
     "data": {
      "text/plain": [
       "Index(['symboling_-1', 'symboling_0', 'symboling_1', 'symboling_2',\n",
       "       'symboling_3', 'fueltype_gas', 'aspiration_turbo', 'doornumber_two',\n",
       "       'carbody_hardtop', 'carbody_hatchback', 'carbody_sedan',\n",
       "       'carbody_wagon', 'drivewheel_fwd', 'drivewheel_rwd',\n",
       "       'enginelocation_rear', 'enginetype_dohcv', 'enginetype_l',\n",
       "       'enginetype_ohc', 'enginetype_ohcf', 'enginetype_ohcv',\n",
       "       'enginetype_rotor', 'cylindernumber_five', 'cylindernumber_four',\n",
       "       'cylindernumber_six', 'cylindernumber_three', 'cylindernumber_twelve',\n",
       "       'cylindernumber_two', 'fuelsystem_2bbl', 'fuelsystem_4bbl',\n",
       "       'fuelsystem_idi', 'fuelsystem_mfi', 'fuelsystem_mpfi',\n",
       "       'fuelsystem_spdi', 'fuelsystem_spfi', 'car_company_audi',\n",
       "       'car_company_bmw', 'car_company_buick', 'car_company_chevrolet',\n",
       "       'car_company_dodge', 'car_company_honda', 'car_company_isuzu',\n",
       "       'car_company_jaguar', 'car_company_mazda', 'car_company_mercury',\n",
       "       'car_company_mitsubishi', 'car_company_nissan', 'car_company_peugeot',\n",
       "       'car_company_plymouth', 'car_company_porsche', 'car_company_renault',\n",
       "       'car_company_saab', 'car_company_subaru', 'car_company_toyota',\n",
       "       'car_company_volkswagen', 'car_company_volvo'],\n",
       "      dtype='object')"
      ]
     },
     "execution_count": 34,
     "metadata": {},
     "output_type": "execute_result"
    }
   ],
   "source": [
    "cars_dummies.columns"
   ]
  },
  {
   "cell_type": "code",
   "execution_count": 35,
   "metadata": {},
   "outputs": [
    {
     "data": {
      "text/plain": [
       "Index(['key_0', 'wheelbase', 'carlength', 'carwidth', 'carheight',\n",
       "       'curbweight', 'enginesize', 'boreratio', 'stroke', 'compressionratio',\n",
       "       'horsepower', 'peakrpm', 'citympg', 'highwaympg', 'symboling_-1',\n",
       "       'symboling_0', 'symboling_1', 'symboling_2', 'symboling_3',\n",
       "       'fueltype_gas', 'aspiration_turbo', 'doornumber_two', 'carbody_hardtop',\n",
       "       'carbody_hatchback', 'carbody_sedan', 'carbody_wagon', 'drivewheel_fwd',\n",
       "       'drivewheel_rwd', 'enginelocation_rear', 'enginetype_dohcv',\n",
       "       'enginetype_l', 'enginetype_ohc', 'enginetype_ohcf', 'enginetype_ohcv',\n",
       "       'enginetype_rotor', 'cylindernumber_five', 'cylindernumber_four',\n",
       "       'cylindernumber_six', 'cylindernumber_three', 'cylindernumber_twelve',\n",
       "       'cylindernumber_two', 'fuelsystem_2bbl', 'fuelsystem_4bbl',\n",
       "       'fuelsystem_idi', 'fuelsystem_mfi', 'fuelsystem_mpfi',\n",
       "       'fuelsystem_spdi', 'fuelsystem_spfi', 'car_company_audi',\n",
       "       'car_company_bmw', 'car_company_buick', 'car_company_chevrolet',\n",
       "       'car_company_dodge', 'car_company_honda', 'car_company_isuzu',\n",
       "       'car_company_jaguar', 'car_company_mazda', 'car_company_mercury',\n",
       "       'car_company_mitsubishi', 'car_company_nissan', 'car_company_peugeot',\n",
       "       'car_company_plymouth', 'car_company_porsche', 'car_company_renault',\n",
       "       'car_company_saab', 'car_company_subaru', 'car_company_toyota',\n",
       "       'car_company_volkswagen', 'car_company_volvo'],\n",
       "      dtype='object')"
      ]
     },
     "execution_count": 35,
     "metadata": {},
     "output_type": "execute_result"
    }
   ],
   "source": [
    "dfX=pd.merge(X,cars_dummies,on=X.index)\n",
    "dfX.columns"
   ]
  },
  {
   "cell_type": "code",
   "execution_count": 36,
   "metadata": {},
   "outputs": [
    {
     "name": "stdout",
     "output_type": "stream",
     "text": [
      "<class 'pandas.core.frame.DataFrame'>\n",
      "Int64Index: 205 entries, 0 to 204\n",
      "Data columns (total 68 columns):\n",
      " #   Column                  Non-Null Count  Dtype  \n",
      "---  ------                  --------------  -----  \n",
      " 0   wheelbase               205 non-null    float64\n",
      " 1   carlength               205 non-null    float64\n",
      " 2   carwidth                205 non-null    float64\n",
      " 3   carheight               205 non-null    float64\n",
      " 4   curbweight              205 non-null    int64  \n",
      " 5   enginesize              205 non-null    int64  \n",
      " 6   boreratio               205 non-null    float64\n",
      " 7   stroke                  205 non-null    float64\n",
      " 8   compressionratio        205 non-null    float64\n",
      " 9   horsepower              205 non-null    int64  \n",
      " 10  peakrpm                 205 non-null    int64  \n",
      " 11  citympg                 205 non-null    int64  \n",
      " 12  highwaympg              205 non-null    int64  \n",
      " 13  symboling_-1            205 non-null    uint8  \n",
      " 14  symboling_0             205 non-null    uint8  \n",
      " 15  symboling_1             205 non-null    uint8  \n",
      " 16  symboling_2             205 non-null    uint8  \n",
      " 17  symboling_3             205 non-null    uint8  \n",
      " 18  fueltype_gas            205 non-null    uint8  \n",
      " 19  aspiration_turbo        205 non-null    uint8  \n",
      " 20  doornumber_two          205 non-null    uint8  \n",
      " 21  carbody_hardtop         205 non-null    uint8  \n",
      " 22  carbody_hatchback       205 non-null    uint8  \n",
      " 23  carbody_sedan           205 non-null    uint8  \n",
      " 24  carbody_wagon           205 non-null    uint8  \n",
      " 25  drivewheel_fwd          205 non-null    uint8  \n",
      " 26  drivewheel_rwd          205 non-null    uint8  \n",
      " 27  enginelocation_rear     205 non-null    uint8  \n",
      " 28  enginetype_dohcv        205 non-null    uint8  \n",
      " 29  enginetype_l            205 non-null    uint8  \n",
      " 30  enginetype_ohc          205 non-null    uint8  \n",
      " 31  enginetype_ohcf         205 non-null    uint8  \n",
      " 32  enginetype_ohcv         205 non-null    uint8  \n",
      " 33  enginetype_rotor        205 non-null    uint8  \n",
      " 34  cylindernumber_five     205 non-null    uint8  \n",
      " 35  cylindernumber_four     205 non-null    uint8  \n",
      " 36  cylindernumber_six      205 non-null    uint8  \n",
      " 37  cylindernumber_three    205 non-null    uint8  \n",
      " 38  cylindernumber_twelve   205 non-null    uint8  \n",
      " 39  cylindernumber_two      205 non-null    uint8  \n",
      " 40  fuelsystem_2bbl         205 non-null    uint8  \n",
      " 41  fuelsystem_4bbl         205 non-null    uint8  \n",
      " 42  fuelsystem_idi          205 non-null    uint8  \n",
      " 43  fuelsystem_mfi          205 non-null    uint8  \n",
      " 44  fuelsystem_mpfi         205 non-null    uint8  \n",
      " 45  fuelsystem_spdi         205 non-null    uint8  \n",
      " 46  fuelsystem_spfi         205 non-null    uint8  \n",
      " 47  car_company_audi        205 non-null    uint8  \n",
      " 48  car_company_bmw         205 non-null    uint8  \n",
      " 49  car_company_buick       205 non-null    uint8  \n",
      " 50  car_company_chevrolet   205 non-null    uint8  \n",
      " 51  car_company_dodge       205 non-null    uint8  \n",
      " 52  car_company_honda       205 non-null    uint8  \n",
      " 53  car_company_isuzu       205 non-null    uint8  \n",
      " 54  car_company_jaguar      205 non-null    uint8  \n",
      " 55  car_company_mazda       205 non-null    uint8  \n",
      " 56  car_company_mercury     205 non-null    uint8  \n",
      " 57  car_company_mitsubishi  205 non-null    uint8  \n",
      " 58  car_company_nissan      205 non-null    uint8  \n",
      " 59  car_company_peugeot     205 non-null    uint8  \n",
      " 60  car_company_plymouth    205 non-null    uint8  \n",
      " 61  car_company_porsche     205 non-null    uint8  \n",
      " 62  car_company_renault     205 non-null    uint8  \n",
      " 63  car_company_saab        205 non-null    uint8  \n",
      " 64  car_company_subaru      205 non-null    uint8  \n",
      " 65  car_company_toyota      205 non-null    uint8  \n",
      " 66  car_company_volkswagen  205 non-null    uint8  \n",
      " 67  car_company_volvo       205 non-null    uint8  \n",
      "dtypes: float64(7), int64(6), uint8(55)\n",
      "memory usage: 33.4 KB\n"
     ]
    }
   ],
   "source": [
    "dfX.drop(columns='key_0',inplace=True)\n",
    "dfX.info()"
   ]
  },
  {
   "cell_type": "markdown",
   "metadata": {},
   "source": [
    "### Scaling the features"
   ]
  },
  {
   "cell_type": "code",
   "execution_count": 37,
   "metadata": {},
   "outputs": [
    {
     "data": {
      "text/plain": [
       "Index(['wheelbase', 'carlength', 'carwidth', 'carheight', 'curbweight',\n",
       "       'enginesize', 'boreratio', 'stroke', 'compressionratio', 'horsepower',\n",
       "       'peakrpm', 'citympg', 'highwaympg', 'symboling_-1', 'symboling_0',\n",
       "       'symboling_1', 'symboling_2', 'symboling_3', 'fueltype_gas',\n",
       "       'aspiration_turbo', 'doornumber_two', 'carbody_hardtop',\n",
       "       'carbody_hatchback', 'carbody_sedan', 'carbody_wagon', 'drivewheel_fwd',\n",
       "       'drivewheel_rwd', 'enginelocation_rear', 'enginetype_dohcv',\n",
       "       'enginetype_l', 'enginetype_ohc', 'enginetype_ohcf', 'enginetype_ohcv',\n",
       "       'enginetype_rotor', 'cylindernumber_five', 'cylindernumber_four',\n",
       "       'cylindernumber_six', 'cylindernumber_three', 'cylindernumber_twelve',\n",
       "       'cylindernumber_two', 'fuelsystem_2bbl', 'fuelsystem_4bbl',\n",
       "       'fuelsystem_idi', 'fuelsystem_mfi', 'fuelsystem_mpfi',\n",
       "       'fuelsystem_spdi', 'fuelsystem_spfi', 'car_company_audi',\n",
       "       'car_company_bmw', 'car_company_buick', 'car_company_chevrolet',\n",
       "       'car_company_dodge', 'car_company_honda', 'car_company_isuzu',\n",
       "       'car_company_jaguar', 'car_company_mazda', 'car_company_mercury',\n",
       "       'car_company_mitsubishi', 'car_company_nissan', 'car_company_peugeot',\n",
       "       'car_company_plymouth', 'car_company_porsche', 'car_company_renault',\n",
       "       'car_company_saab', 'car_company_subaru', 'car_company_toyota',\n",
       "       'car_company_volkswagen', 'car_company_volvo'],\n",
       "      dtype='object')"
      ]
     },
     "execution_count": 37,
     "metadata": {},
     "output_type": "execute_result"
    }
   ],
   "source": [
    "#scaling features though not necessary in MLR but its good to do it as it makes interpretation of regression coefficients easier\n",
    "\n",
    "from sklearn.preprocessing import scale\n",
    "\n",
    "# storing column names in cols, since column names are (annoyingly) lost after \n",
    "# scaling (the df is converted to a numpy array)\n",
    "cols=dfX.columns\n",
    "dfX_scaled=pd.DataFrame(scale(dfX))\n",
    "dfX_scaled.columns=cols\n",
    "dfX_scaled.columns"
   ]
  },
  {
   "cell_type": "code",
   "execution_count": 38,
   "metadata": {},
   "outputs": [
    {
     "data": {
      "text/html": [
       "<div>\n",
       "<style scoped>\n",
       "    .dataframe tbody tr th:only-of-type {\n",
       "        vertical-align: middle;\n",
       "    }\n",
       "\n",
       "    .dataframe tbody tr th {\n",
       "        vertical-align: top;\n",
       "    }\n",
       "\n",
       "    .dataframe thead th {\n",
       "        text-align: right;\n",
       "    }\n",
       "</style>\n",
       "<table border=\"1\" class=\"dataframe\">\n",
       "  <thead>\n",
       "    <tr style=\"text-align: right;\">\n",
       "      <th></th>\n",
       "      <th>wheelbase</th>\n",
       "      <th>carlength</th>\n",
       "      <th>carwidth</th>\n",
       "      <th>carheight</th>\n",
       "      <th>curbweight</th>\n",
       "      <th>enginesize</th>\n",
       "      <th>boreratio</th>\n",
       "      <th>stroke</th>\n",
       "      <th>compressionratio</th>\n",
       "      <th>horsepower</th>\n",
       "      <th>...</th>\n",
       "      <th>car_company_nissan</th>\n",
       "      <th>car_company_peugeot</th>\n",
       "      <th>car_company_plymouth</th>\n",
       "      <th>car_company_porsche</th>\n",
       "      <th>car_company_renault</th>\n",
       "      <th>car_company_saab</th>\n",
       "      <th>car_company_subaru</th>\n",
       "      <th>car_company_toyota</th>\n",
       "      <th>car_company_volkswagen</th>\n",
       "      <th>car_company_volvo</th>\n",
       "    </tr>\n",
       "  </thead>\n",
       "  <tbody>\n",
       "    <tr>\n",
       "      <th>count</th>\n",
       "      <td>2.050000e+02</td>\n",
       "      <td>2.050000e+02</td>\n",
       "      <td>2.050000e+02</td>\n",
       "      <td>2.050000e+02</td>\n",
       "      <td>2.050000e+02</td>\n",
       "      <td>2.050000e+02</td>\n",
       "      <td>2.050000e+02</td>\n",
       "      <td>2.050000e+02</td>\n",
       "      <td>2.050000e+02</td>\n",
       "      <td>2.050000e+02</td>\n",
       "      <td>...</td>\n",
       "      <td>2.050000e+02</td>\n",
       "      <td>2.050000e+02</td>\n",
       "      <td>2.050000e+02</td>\n",
       "      <td>2.050000e+02</td>\n",
       "      <td>2.050000e+02</td>\n",
       "      <td>2.050000e+02</td>\n",
       "      <td>2.050000e+02</td>\n",
       "      <td>2.050000e+02</td>\n",
       "      <td>2.050000e+02</td>\n",
       "      <td>2.050000e+02</td>\n",
       "    </tr>\n",
       "    <tr>\n",
       "      <th>mean</th>\n",
       "      <td>-1.496906e-15</td>\n",
       "      <td>3.730349e-15</td>\n",
       "      <td>9.964929e-16</td>\n",
       "      <td>-4.408398e-16</td>\n",
       "      <td>9.910771e-17</td>\n",
       "      <td>5.415722e-19</td>\n",
       "      <td>2.267021e-15</td>\n",
       "      <td>2.126483e-15</td>\n",
       "      <td>-3.115394e-16</td>\n",
       "      <td>1.914458e-16</td>\n",
       "      <td>...</td>\n",
       "      <td>-6.228080e-17</td>\n",
       "      <td>-4.947262e-16</td>\n",
       "      <td>-5.524037e-17</td>\n",
       "      <td>3.076130e-16</td>\n",
       "      <td>-1.252386e-16</td>\n",
       "      <td>-1.437874e-16</td>\n",
       "      <td>8.529762e-17</td>\n",
       "      <td>-7.251652e-16</td>\n",
       "      <td>-6.452833e-16</td>\n",
       "      <td>3.552714e-16</td>\n",
       "    </tr>\n",
       "    <tr>\n",
       "      <th>std</th>\n",
       "      <td>1.002448e+00</td>\n",
       "      <td>1.002448e+00</td>\n",
       "      <td>1.002448e+00</td>\n",
       "      <td>1.002448e+00</td>\n",
       "      <td>1.002448e+00</td>\n",
       "      <td>1.002448e+00</td>\n",
       "      <td>1.002448e+00</td>\n",
       "      <td>1.002448e+00</td>\n",
       "      <td>1.002448e+00</td>\n",
       "      <td>1.002448e+00</td>\n",
       "      <td>...</td>\n",
       "      <td>1.002448e+00</td>\n",
       "      <td>1.002448e+00</td>\n",
       "      <td>1.002448e+00</td>\n",
       "      <td>1.002448e+00</td>\n",
       "      <td>1.002448e+00</td>\n",
       "      <td>1.002448e+00</td>\n",
       "      <td>1.002448e+00</td>\n",
       "      <td>1.002448e+00</td>\n",
       "      <td>1.002448e+00</td>\n",
       "      <td>1.002448e+00</td>\n",
       "    </tr>\n",
       "    <tr>\n",
       "      <th>min</th>\n",
       "      <td>-2.023713e+00</td>\n",
       "      <td>-2.677244e+00</td>\n",
       "      <td>-2.620512e+00</td>\n",
       "      <td>-2.430664e+00</td>\n",
       "      <td>-2.055348e+00</td>\n",
       "      <td>-1.586561e+00</td>\n",
       "      <td>-2.923049e+00</td>\n",
       "      <td>-3.789311e+00</td>\n",
       "      <td>-7.931011e-01</td>\n",
       "      <td>-1.422573e+00</td>\n",
       "      <td>...</td>\n",
       "      <td>-3.102526e-01</td>\n",
       "      <td>-2.381198e-01</td>\n",
       "      <td>-1.880254e-01</td>\n",
       "      <td>-1.581139e-01</td>\n",
       "      <td>-9.925833e-02</td>\n",
       "      <td>-1.736397e-01</td>\n",
       "      <td>-2.493515e-01</td>\n",
       "      <td>-4.300827e-01</td>\n",
       "      <td>-2.493515e-01</td>\n",
       "      <td>-2.381198e-01</td>\n",
       "    </tr>\n",
       "    <tr>\n",
       "      <th>25%</th>\n",
       "      <td>-7.085959e-01</td>\n",
       "      <td>-6.296552e-01</td>\n",
       "      <td>-8.447824e-01</td>\n",
       "      <td>-7.076263e-01</td>\n",
       "      <td>-7.904486e-01</td>\n",
       "      <td>-7.199469e-01</td>\n",
       "      <td>-6.653141e-01</td>\n",
       "      <td>-4.648342e-01</td>\n",
       "      <td>-3.892993e-01</td>\n",
       "      <td>-8.648707e-01</td>\n",
       "      <td>...</td>\n",
       "      <td>-3.102526e-01</td>\n",
       "      <td>-2.381198e-01</td>\n",
       "      <td>-1.880254e-01</td>\n",
       "      <td>-1.581139e-01</td>\n",
       "      <td>-9.925833e-02</td>\n",
       "      <td>-1.736397e-01</td>\n",
       "      <td>-2.493515e-01</td>\n",
       "      <td>-4.300827e-01</td>\n",
       "      <td>-2.493515e-01</td>\n",
       "      <td>-2.381198e-01</td>\n",
       "    </tr>\n",
       "    <tr>\n",
       "      <th>50%</th>\n",
       "      <td>-2.924196e-01</td>\n",
       "      <td>-6.900603e-02</td>\n",
       "      <td>-1.905661e-01</td>\n",
       "      <td>1.538927e-01</td>\n",
       "      <td>-2.725519e-01</td>\n",
       "      <td>-1.662771e-01</td>\n",
       "      <td>-7.312136e-02</td>\n",
       "      <td>1.105560e-01</td>\n",
       "      <td>-2.883489e-01</td>\n",
       "      <td>-2.311186e-01</td>\n",
       "      <td>...</td>\n",
       "      <td>-3.102526e-01</td>\n",
       "      <td>-2.381198e-01</td>\n",
       "      <td>-1.880254e-01</td>\n",
       "      <td>-1.581139e-01</td>\n",
       "      <td>-9.925833e-02</td>\n",
       "      <td>-1.736397e-01</td>\n",
       "      <td>-2.493515e-01</td>\n",
       "      <td>-4.300827e-01</td>\n",
       "      <td>-2.493515e-01</td>\n",
       "      <td>-2.381198e-01</td>\n",
       "    </tr>\n",
       "    <tr>\n",
       "      <th>75%</th>\n",
       "      <td>6.065210e-01</td>\n",
       "      <td>7.354037e-01</td>\n",
       "      <td>4.636501e-01</td>\n",
       "      <td>7.282388e-01</td>\n",
       "      <td>7.305117e-01</td>\n",
       "      <td>3.392475e-01</td>\n",
       "      <td>9.262039e-01</td>\n",
       "      <td>4.941494e-01</td>\n",
       "      <td>-1.873985e-01</td>\n",
       "      <td>3.012332e-01</td>\n",
       "      <td>...</td>\n",
       "      <td>-3.102526e-01</td>\n",
       "      <td>-2.381198e-01</td>\n",
       "      <td>-1.880254e-01</td>\n",
       "      <td>-1.581139e-01</td>\n",
       "      <td>-9.925833e-02</td>\n",
       "      <td>-1.736397e-01</td>\n",
       "      <td>-2.493515e-01</td>\n",
       "      <td>-4.300827e-01</td>\n",
       "      <td>-2.493515e-01</td>\n",
       "      <td>-2.381198e-01</td>\n",
       "    </tr>\n",
       "    <tr>\n",
       "      <th>max</th>\n",
       "      <td>3.686225e+00</td>\n",
       "      <td>2.766741e+00</td>\n",
       "      <td>2.987056e+00</td>\n",
       "      <td>2.492302e+00</td>\n",
       "      <td>2.907988e+00</td>\n",
       "      <td>4.792679e+00</td>\n",
       "      <td>2.258638e+00</td>\n",
       "      <td>2.923575e+00</td>\n",
       "      <td>3.244916e+00</td>\n",
       "      <td>4.661448e+00</td>\n",
       "      <td>...</td>\n",
       "      <td>3.223180e+00</td>\n",
       "      <td>4.199567e+00</td>\n",
       "      <td>5.318432e+00</td>\n",
       "      <td>6.324555e+00</td>\n",
       "      <td>1.007472e+01</td>\n",
       "      <td>5.759051e+00</td>\n",
       "      <td>4.010403e+00</td>\n",
       "      <td>2.325134e+00</td>\n",
       "      <td>4.010403e+00</td>\n",
       "      <td>4.199567e+00</td>\n",
       "    </tr>\n",
       "  </tbody>\n",
       "</table>\n",
       "<p>8 rows × 68 columns</p>\n",
       "</div>"
      ],
      "text/plain": [
       "          wheelbase     carlength      carwidth     carheight    curbweight  \\\n",
       "count  2.050000e+02  2.050000e+02  2.050000e+02  2.050000e+02  2.050000e+02   \n",
       "mean  -1.496906e-15  3.730349e-15  9.964929e-16 -4.408398e-16  9.910771e-17   \n",
       "std    1.002448e+00  1.002448e+00  1.002448e+00  1.002448e+00  1.002448e+00   \n",
       "min   -2.023713e+00 -2.677244e+00 -2.620512e+00 -2.430664e+00 -2.055348e+00   \n",
       "25%   -7.085959e-01 -6.296552e-01 -8.447824e-01 -7.076263e-01 -7.904486e-01   \n",
       "50%   -2.924196e-01 -6.900603e-02 -1.905661e-01  1.538927e-01 -2.725519e-01   \n",
       "75%    6.065210e-01  7.354037e-01  4.636501e-01  7.282388e-01  7.305117e-01   \n",
       "max    3.686225e+00  2.766741e+00  2.987056e+00  2.492302e+00  2.907988e+00   \n",
       "\n",
       "         enginesize     boreratio        stroke  compressionratio  \\\n",
       "count  2.050000e+02  2.050000e+02  2.050000e+02      2.050000e+02   \n",
       "mean   5.415722e-19  2.267021e-15  2.126483e-15     -3.115394e-16   \n",
       "std    1.002448e+00  1.002448e+00  1.002448e+00      1.002448e+00   \n",
       "min   -1.586561e+00 -2.923049e+00 -3.789311e+00     -7.931011e-01   \n",
       "25%   -7.199469e-01 -6.653141e-01 -4.648342e-01     -3.892993e-01   \n",
       "50%   -1.662771e-01 -7.312136e-02  1.105560e-01     -2.883489e-01   \n",
       "75%    3.392475e-01  9.262039e-01  4.941494e-01     -1.873985e-01   \n",
       "max    4.792679e+00  2.258638e+00  2.923575e+00      3.244916e+00   \n",
       "\n",
       "         horsepower  ...  car_company_nissan  car_company_peugeot  \\\n",
       "count  2.050000e+02  ...        2.050000e+02         2.050000e+02   \n",
       "mean   1.914458e-16  ...       -6.228080e-17        -4.947262e-16   \n",
       "std    1.002448e+00  ...        1.002448e+00         1.002448e+00   \n",
       "min   -1.422573e+00  ...       -3.102526e-01        -2.381198e-01   \n",
       "25%   -8.648707e-01  ...       -3.102526e-01        -2.381198e-01   \n",
       "50%   -2.311186e-01  ...       -3.102526e-01        -2.381198e-01   \n",
       "75%    3.012332e-01  ...       -3.102526e-01        -2.381198e-01   \n",
       "max    4.661448e+00  ...        3.223180e+00         4.199567e+00   \n",
       "\n",
       "       car_company_plymouth  car_company_porsche  car_company_renault  \\\n",
       "count          2.050000e+02         2.050000e+02         2.050000e+02   \n",
       "mean          -5.524037e-17         3.076130e-16        -1.252386e-16   \n",
       "std            1.002448e+00         1.002448e+00         1.002448e+00   \n",
       "min           -1.880254e-01        -1.581139e-01        -9.925833e-02   \n",
       "25%           -1.880254e-01        -1.581139e-01        -9.925833e-02   \n",
       "50%           -1.880254e-01        -1.581139e-01        -9.925833e-02   \n",
       "75%           -1.880254e-01        -1.581139e-01        -9.925833e-02   \n",
       "max            5.318432e+00         6.324555e+00         1.007472e+01   \n",
       "\n",
       "       car_company_saab  car_company_subaru  car_company_toyota  \\\n",
       "count      2.050000e+02        2.050000e+02        2.050000e+02   \n",
       "mean      -1.437874e-16        8.529762e-17       -7.251652e-16   \n",
       "std        1.002448e+00        1.002448e+00        1.002448e+00   \n",
       "min       -1.736397e-01       -2.493515e-01       -4.300827e-01   \n",
       "25%       -1.736397e-01       -2.493515e-01       -4.300827e-01   \n",
       "50%       -1.736397e-01       -2.493515e-01       -4.300827e-01   \n",
       "75%       -1.736397e-01       -2.493515e-01       -4.300827e-01   \n",
       "max        5.759051e+00        4.010403e+00        2.325134e+00   \n",
       "\n",
       "       car_company_volkswagen  car_company_volvo  \n",
       "count            2.050000e+02       2.050000e+02  \n",
       "mean            -6.452833e-16       3.552714e-16  \n",
       "std              1.002448e+00       1.002448e+00  \n",
       "min             -2.493515e-01      -2.381198e-01  \n",
       "25%             -2.493515e-01      -2.381198e-01  \n",
       "50%             -2.493515e-01      -2.381198e-01  \n",
       "75%             -2.493515e-01      -2.381198e-01  \n",
       "max              4.010403e+00       4.199567e+00  \n",
       "\n",
       "[8 rows x 68 columns]"
      ]
     },
     "execution_count": 38,
     "metadata": {},
     "output_type": "execute_result"
    }
   ],
   "source": [
    "dfX_scaled.describe()\n",
    "\n",
    "#all numeric cols has means = 0 or as good as zero and std=1"
   ]
  },
  {
   "cell_type": "code",
   "execution_count": 39,
   "metadata": {},
   "outputs": [],
   "source": [
    "# split into train and test\n",
    "from sklearn.model_selection import train_test_split\n",
    "X_train, X_test, y_train, y_test = train_test_split(dfX_scaled, y, \n",
    "                                                    train_size=0.7,\n",
    "                                                    test_size = 0.3, random_state=100)"
   ]
  },
  {
   "cell_type": "markdown",
   "metadata": {},
   "source": [
    "## Section 4. Model Building and Feature Selection using RFE\n",
    "\n",
    "#### Since our dependent variable price looks to be linearly related to most of the independent variables we are using Linear Regression only and not other types of regression like Polynomial, Random Forest/Boosting regression etc."
   ]
  },
  {
   "cell_type": "code",
   "execution_count": 46,
   "metadata": {},
   "outputs": [
    {
     "name": "stdout",
     "output_type": "stream",
     "text": [
      "0.8382621393399066\n"
     ]
    }
   ],
   "source": [
    "# instantiate\n",
    "lm = LinearRegression()\n",
    "# fit\n",
    "lm.fit(X_train, y_train)\n",
    "# predict \n",
    "y_pred = lm.predict(X_test)\n",
    "# metrics\n",
    "from sklearn.metrics import r2_score\n",
    "print(r2_score(y_true=y_test, y_pred=y_pred))"
   ]
  },
  {
   "cell_type": "markdown",
   "metadata": {},
   "source": [
    "Not bad, we are getting approx. 83% r-squared with all the variables. Let’s see how much we can get with lesser features."
   ]
  },
  {
   "cell_type": "markdown",
   "metadata": {},
   "source": [
    "### Choosing the optimal number of features for Model building:"
   ]
  },
  {
   "cell_type": "markdown",
   "metadata": {},
   "source": [
    "One way to choose the optimal number of features is to make a plot between number of features(n_features) vs adjusted r-squared, and then choose the best value of n_features."
   ]
  },
  {
   "cell_type": "code",
   "execution_count": 47,
   "metadata": {},
   "outputs": [],
   "source": [
    "n_features_list = list(range(4, 20))\n",
    "adjusted_r2 = []\n",
    "r2 = []\n",
    "test_r2 = []\n",
    "for n_features in range(4, 20):\n",
    "# RFE with n features\n",
    "    lm = LinearRegression()\n",
    "# specify number of features\n",
    "    rfe_n = RFE(lm, n_features)\n",
    "# fit with n features\n",
    "    rfe_n.fit(X_train, y_train)\n",
    "# subset the features selected by rfe_6\n",
    "    col_n = X_train.columns[rfe_n.support_]\n",
    "# subsetting training data for 6 selected columns\n",
    "    X_train_rfe_n = X_train[col_n]\n",
    "# add a constant to the model\n",
    "    X_train_rfe_n = sm.add_constant(X_train_rfe_n)\n",
    "# fitting the model with 6 variables\n",
    "    lm_n = sm.OLS(y_train, X_train_rfe_n).fit()\n",
    "    adjusted_r2.append(lm_n.rsquared_adj)\n",
    "    r2.append(lm_n.rsquared)\n",
    "    \n",
    "    \n",
    "    # making predictions using rfe_15 sm model\n",
    "    X_test_rfe_n = X_test[col_n]\n",
    "# # Adding a constant variable \n",
    "    X_test_rfe_n = sm.add_constant(X_test_rfe_n, has_constant='add')\n",
    "# # Making predictions\n",
    "    y_pred = lm_n.predict(X_test_rfe_n)\n",
    "    \n",
    "    test_r2.append(r2_score(y_test, y_pred))"
   ]
  },
  {
   "cell_type": "code",
   "execution_count": 48,
   "metadata": {},
   "outputs": [
    {
     "data": {
      "image/png": "[encoded data removed]",
      "text/plain": [
       "<Figure size 720x576 with 1 Axes>"
      ]
     },
     "metadata": {
      "needs_background": "light"
     },
     "output_type": "display_data"
    }
   ],
   "source": [
    "# plotting adjusted_r2 against n_features\n",
    "plt.figure(figsize=(10, 8))\n",
    "plt.plot(n_features_list, adjusted_r2, label=\"adjusted_r2\")\n",
    "plt.plot(n_features_list, r2, label=\"train_r2\")\n",
    "plt.plot(n_features_list, test_r2, label=\"test_r2\")\n",
    "plt.legend(loc='upper left')\n",
    "plt.show()"
   ]
  },
  {
   "cell_type": "markdown",
   "metadata": {},
   "source": [
    "- Based on the plot, we can choose the number of features considering the r2_score we are looking for. Note that there are a few caveats in this approach, and there are more sophisticated techniques to choose the optimal number of features:\n",
    "- Cross-validation: In this case, we have considered only one train-test split of the dataset; the values of r-squared and adjusted r-squared will vary with train-test split. Thus, cross-validation is a more commonly used technique (you divide the data into multiple train-test splits into ‘folds’, and then compute average metrics such as r-squared across the ‘folds’.\n",
    "- The values of r-squared and adjusted r-squared are computed based on the training set, though we must always look at metrics computed on the test set. For e.g. in this case, the test r2 actually goes down with increasing n — this phenomenon is called ‘overfitting’, where the performance on training set is good because the model has in some way ‘memorised’ the dataset, and thus the performance on test set is worse.\n",
    "- Thus, we can choose anything between 4 and 12 features, since beyond 12, the test r2 goes down; and at lesser than 4, the r2_score is too less.\n",
    "- In fact, the test_r2 score doesn’t increase much anyway from n=6 to n=12. It is thus wiser to choose a simpler model, and so let’s choose n=6."
   ]
  },
  {
   "cell_type": "markdown",
   "metadata": {},
   "source": [
    "### Final Model:\n",
    "##### Let’s now build the final model with 6 features."
   ]
  },
  {
   "cell_type": "code",
   "execution_count": 49,
   "metadata": {},
   "outputs": [
    {
     "data": {
      "text/html": [
       "<table class=\"simpletable\">\n",
       "<caption>OLS Regression Results</caption>\n",
       "<tr>\n",
       "  <th>Dep. Variable:</th>          <td>price</td>      <th>  R-squared:         </th> <td>   0.891</td>\n",
       "</tr>\n",
       "<tr>\n",
       "  <th>Model:</th>                   <td>OLS</td>       <th>  Adj. R-squared:    </th> <td>   0.886</td>\n",
       "</tr>\n",
       "<tr>\n",
       "  <th>Method:</th>             <td>Least Squares</td>  <th>  F-statistic:       </th> <td>   184.8</td>\n",
       "</tr>\n",
       "<tr>\n",
       "  <th>Date:</th>             <td>Fri, 28 May 2021</td> <th>  Prob (F-statistic):</th> <td>7.79e-63</td>\n",
       "</tr>\n",
       "<tr>\n",
       "  <th>Time:</th>                 <td>14:41:53</td>     <th>  Log-Likelihood:    </th> <td> -1325.8</td>\n",
       "</tr>\n",
       "<tr>\n",
       "  <th>No. Observations:</th>      <td>   143</td>      <th>  AIC:               </th> <td>   2666.</td>\n",
       "</tr>\n",
       "<tr>\n",
       "  <th>Df Residuals:</th>          <td>   136</td>      <th>  BIC:               </th> <td>   2686.</td>\n",
       "</tr>\n",
       "<tr>\n",
       "  <th>Df Model:</th>              <td>     6</td>      <th>                     </th>     <td> </td>   \n",
       "</tr>\n",
       "<tr>\n",
       "  <th>Covariance Type:</th>      <td>nonrobust</td>    <th>                     </th>     <td> </td>   \n",
       "</tr>\n",
       "</table>\n",
       "<table class=\"simpletable\">\n",
       "<tr>\n",
       "           <td></td>              <th>coef</th>     <th>std err</th>      <th>t</th>      <th>P>|t|</th>  <th>[0.025</th>    <th>0.975]</th>  \n",
       "</tr>\n",
       "<tr>\n",
       "  <th>const</th>               <td> 1.339e+04</td> <td>  221.912</td> <td>   60.350</td> <td> 0.000</td> <td>  1.3e+04</td> <td> 1.38e+04</td>\n",
       "</tr>\n",
       "<tr>\n",
       "  <th>carwidth</th>            <td> 2022.5954</td> <td>  467.095</td> <td>    4.330</td> <td> 0.000</td> <td> 1098.886</td> <td> 2946.305</td>\n",
       "</tr>\n",
       "<tr>\n",
       "  <th>curbweight</th>          <td> 2280.5711</td> <td>  582.682</td> <td>    3.914</td> <td> 0.000</td> <td> 1128.283</td> <td> 3432.860</td>\n",
       "</tr>\n",
       "<tr>\n",
       "  <th>enginesize</th>          <td> 2455.4132</td> <td>  470.374</td> <td>    5.220</td> <td> 0.000</td> <td> 1525.219</td> <td> 3385.607</td>\n",
       "</tr>\n",
       "<tr>\n",
       "  <th>enginelocation_rear</th> <td> 1526.3407</td> <td>  406.639</td> <td>    3.754</td> <td> 0.000</td> <td>  722.187</td> <td> 2330.495</td>\n",
       "</tr>\n",
       "<tr>\n",
       "  <th>car_company_bmw</th>     <td> 1755.2549</td> <td>  222.194</td> <td>    7.900</td> <td> 0.000</td> <td> 1315.853</td> <td> 2194.657</td>\n",
       "</tr>\n",
       "<tr>\n",
       "  <th>car_company_porsche</th> <td>  707.8462</td> <td>  306.321</td> <td>    2.311</td> <td> 0.022</td> <td>  102.077</td> <td> 1313.615</td>\n",
       "</tr>\n",
       "</table>\n",
       "<table class=\"simpletable\">\n",
       "<tr>\n",
       "  <th>Omnibus:</th>       <td> 8.829</td> <th>  Durbin-Watson:     </th> <td>   2.007</td>\n",
       "</tr>\n",
       "<tr>\n",
       "  <th>Prob(Omnibus):</th> <td> 0.012</td> <th>  Jarque-Bera (JB):  </th> <td>   9.273</td>\n",
       "</tr>\n",
       "<tr>\n",
       "  <th>Skew:</th>          <td> 0.478</td> <th>  Prob(JB):          </th> <td> 0.00969</td>\n",
       "</tr>\n",
       "<tr>\n",
       "  <th>Kurtosis:</th>      <td> 3.801</td> <th>  Cond. No.          </th> <td>    5.68</td>\n",
       "</tr>\n",
       "</table><br/><br/>Warnings:<br/>[1] Standard Errors assume that the covariance matrix of the errors is correctly specified."
      ],
      "text/plain": [
       "<class 'statsmodels.iolib.summary.Summary'>\n",
       "\"\"\"\n",
       "                            OLS Regression Results                            \n",
       "==============================================================================\n",
       "Dep. Variable:                  price   R-squared:                       0.891\n",
       "Model:                            OLS   Adj. R-squared:                  0.886\n",
       "Method:                 Least Squares   F-statistic:                     184.8\n",
       "Date:                Fri, 28 May 2021   Prob (F-statistic):           7.79e-63\n",
       "Time:                        14:41:53   Log-Likelihood:                -1325.8\n",
       "No. Observations:                 143   AIC:                             2666.\n",
       "Df Residuals:                     136   BIC:                             2686.\n",
       "Df Model:                           6                                         \n",
       "Covariance Type:            nonrobust                                         \n",
       "=======================================================================================\n",
       "                          coef    std err          t      P>|t|      [0.025      0.975]\n",
       "---------------------------------------------------------------------------------------\n",
       "const                1.339e+04    221.912     60.350      0.000     1.3e+04    1.38e+04\n",
       "carwidth             2022.5954    467.095      4.330      0.000    1098.886    2946.305\n",
       "curbweight           2280.5711    582.682      3.914      0.000    1128.283    3432.860\n",
       "enginesize           2455.4132    470.374      5.220      0.000    1525.219    3385.607\n",
       "enginelocation_rear  1526.3407    406.639      3.754      0.000     722.187    2330.495\n",
       "car_company_bmw      1755.2549    222.194      7.900      0.000    1315.853    2194.657\n",
       "car_company_porsche   707.8462    306.321      2.311      0.022     102.077    1313.615\n",
       "==============================================================================\n",
       "Omnibus:                        8.829   Durbin-Watson:                   2.007\n",
       "Prob(Omnibus):                  0.012   Jarque-Bera (JB):                9.273\n",
       "Skew:                           0.478   Prob(JB):                      0.00969\n",
       "Kurtosis:                       3.801   Cond. No.                         5.68\n",
       "==============================================================================\n",
       "\n",
       "Warnings:\n",
       "[1] Standard Errors assume that the covariance matrix of the errors is correctly specified.\n",
       "\"\"\""
      ]
     },
     "execution_count": 49,
     "metadata": {},
     "output_type": "execute_result"
    }
   ],
   "source": [
    "# RFE with n features\n",
    "lm = LinearRegression()\n",
    "n_features = 6\n",
    "# specify number of features\n",
    "rfe_n = RFE(lm, n_features)\n",
    "\n",
    "# fit with n features\n",
    "rfe_n.fit(X_train, y_train)\n",
    "\n",
    "# subset the features selected by rfe_6\n",
    "col_n = X_train.columns[rfe_n.support_]\n",
    "\n",
    "# subsetting training data for 6 selected columns\n",
    "X_train_rfe_n = X_train[col_n]\n",
    "\n",
    "# add a constant to the model\n",
    "X_train_rfe_n = sm.add_constant(X_train_rfe_n)\n",
    "\n",
    "# fitting the model with 6 variables\n",
    "lm_n = sm.OLS(y_train, X_train_rfe_n).fit()\n",
    "adjusted_r2.append(lm_n.rsquared_adj)\n",
    "r2.append(lm_n.rsquared)\n",
    "\n",
    "# making predictions using rfe_15 sm model\n",
    "X_test_rfe_n = X_test[col_n]\n",
    "\n",
    "# # Adding a constant variable \n",
    "X_test_rfe_n = sm.add_constant(X_test_rfe_n, has_constant='add')\n",
    "\n",
    "# # Making predictions\n",
    "y_pred = lm_n.predict(X_test_rfe_n)\n",
    "test_r2.append(r2_score(y_test, y_pred))\n",
    "\n",
    "# summary\n",
    "lm_n.summary()\n"
   ]
  },
  {
   "cell_type": "code",
   "execution_count": 50,
   "metadata": {},
   "outputs": [
    {
     "data": {
      "text/plain": [
       "0.8851422877312569"
      ]
     },
     "execution_count": 50,
     "metadata": {},
     "output_type": "execute_result"
    }
   ],
   "source": [
    "# results \n",
    "r2_score(y_test, y_pred)"
   ]
  },
  {
   "cell_type": "markdown",
   "metadata": {},
   "source": [
    "So the model has accuracy of 88.51% on test data which is good. There are other ways of model evaluation as well, let’s see those points."
   ]
  },
  {
   "cell_type": "markdown",
   "metadata": {},
   "source": [
    "### Final Model Evaluation:"
   ]
  },
  {
   "cell_type": "markdown",
   "metadata": {},
   "source": [
    "Let’s now evaluate the model in terms of its assumptions. We should test that:\n",
    "- The error terms are normally distributed with mean approximately 0.\n",
    "- There is little correlation between the predictors.\n",
    "- Homoscedasticity, i.e. the ‘spread’ or ‘variance’ of the error term (y_true-y_pred) is constant."
   ]
  },
  {
   "cell_type": "code",
   "execution_count": 51,
   "metadata": {},
   "outputs": [
    {
     "data": {
      "image/png": "[encoded data removed]",
      "text/plain": [
       "<Figure size 432x288 with 1 Axes>"
      ]
     },
     "metadata": {
      "needs_background": "light"
     },
     "output_type": "display_data"
    }
   ],
   "source": [
    "# Error terms\n",
    "c = [i for i in range(len(y_pred))]\n",
    "fig = plt.figure()\n",
    "plt.plot(c,y_test-y_pred, color=\"blue\", linewidth=2.5, linestyle=\"-\")\n",
    "fig.suptitle('Error Terms', fontsize=20)              # Plot heading \n",
    "plt.xlabel('Index', fontsize=18)                      # X-label\n",
    "plt.ylabel('ytest-ypred', fontsize=16)                # Y-label\n",
    "plt.show()"
   ]
  },
  {
   "cell_type": "markdown",
   "metadata": {},
   "source": [
    "Plotting the error terms to understand the distribution."
   ]
  },
  {
   "cell_type": "code",
   "execution_count": 52,
   "metadata": {},
   "outputs": [
    {
     "data": {
      "image/png": "[encoded data removed]",
      "text/plain": [
       "<Figure size 432x288 with 1 Axes>"
      ]
     },
     "metadata": {
      "needs_background": "light"
     },
     "output_type": "display_data"
    }
   ],
   "source": [
    "fig = plt.figure()\n",
    "sns.distplot((y_test-y_pred),bins=50)\n",
    "fig.suptitle('Error Terms', fontsize=20)                  # Plot heading \n",
    "plt.xlabel('y_test-y_pred', fontsize=18)                  # X-label\n",
    "plt.ylabel('Index', fontsize=16)                          # Y-label\n",
    "plt.show()"
   ]
  },
  {
   "cell_type": "markdown",
   "metadata": {},
   "source": [
    "Now it may look like that the mean is not 0, though compared to the scale of ‘Price’, -380 is not such a big number (see distribution below)."
   ]
  },
  {
   "cell_type": "markdown",
   "metadata": {},
   "source": [
    "#### Multicollinearity:"
   ]
  },
  {
   "cell_type": "code",
   "execution_count": 54,
   "metadata": {},
   "outputs": [
    {
     "name": "stdout",
     "output_type": "stream",
     "text": [
      "<class 'pandas.core.frame.DataFrame'>\n",
      "RangeIndex: 205 entries, 0 to 204\n",
      "Data columns (total 25 columns):\n",
      " #   Column            Non-Null Count  Dtype  \n",
      "---  ------            --------------  -----  \n",
      " 0   symboling         205 non-null    object \n",
      " 1   fueltype          205 non-null    object \n",
      " 2   aspiration        205 non-null    object \n",
      " 3   doornumber        205 non-null    object \n",
      " 4   carbody           205 non-null    object \n",
      " 5   drivewheel        205 non-null    object \n",
      " 6   enginelocation    205 non-null    object \n",
      " 7   wheelbase         205 non-null    float64\n",
      " 8   carlength         205 non-null    float64\n",
      " 9   carwidth          205 non-null    float64\n",
      " 10  carheight         205 non-null    float64\n",
      " 11  curbweight        205 non-null    int64  \n",
      " 12  enginetype        205 non-null    object \n",
      " 13  cylindernumber    205 non-null    object \n",
      " 14  enginesize        205 non-null    int64  \n",
      " 15  fuelsystem        205 non-null    object \n",
      " 16  boreratio         205 non-null    float64\n",
      " 17  stroke            205 non-null    float64\n",
      " 18  compressionratio  205 non-null    float64\n",
      " 19  horsepower        205 non-null    int64  \n",
      " 20  peakrpm           205 non-null    int64  \n",
      " 21  citympg           205 non-null    int64  \n",
      " 22  highwaympg        205 non-null    int64  \n",
      " 23  price             205 non-null    float64\n",
      " 24  car_company       205 non-null    object \n",
      "dtypes: float64(8), int64(6), object(11)\n",
      "memory usage: 40.2+ KB\n"
     ]
    }
   ],
   "source": [
    "df.info()"
   ]
  },
  {
   "cell_type": "code",
   "execution_count": 57,
   "metadata": {},
   "outputs": [],
   "source": [
    "from statsmodels.regression.linear_model import OLS\n",
    "from statsmodels.tools.tools import add_constant\n",
    "\n",
    "def variance_inflation_factors(X_df): #X_df = X_train normally, in this model X=X_test_rfe_n\n",
    "    '''\n",
    "     '''\n",
    "    X_df = add_constant(X_df)\n",
    "    vifs = pd.Series(\n",
    "        [1 / (1. - OLS(X_df[col].values, \n",
    "                       X_df.loc[:, X_df.columns != col].values).fit().rsquared) \n",
    "         for col in X_df],\n",
    "        index=X_df.columns,\n",
    "        name='VIF'\n",
    "    )\n",
    "    return vifs"
   ]
  },
  {
   "cell_type": "code",
   "execution_count": 59,
   "metadata": {},
   "outputs": [
    {
     "data": {
      "text/plain": [
       "const                  0.000000\n",
       "carwidth               4.086771\n",
       "curbweight             5.847554\n",
       "enginesize             3.729704\n",
       "enginelocation_rear         inf\n",
       "car_company_bmw        1.066325\n",
       "car_company_porsche         inf\n",
       "Name: VIF, dtype: float64"
      ]
     },
     "execution_count": 59,
     "metadata": {},
     "output_type": "execute_result"
    }
   ],
   "source": [
    "variance_inflation_factors(X_test_rfe_n)"
   ]
  },
  {
   "cell_type": "code",
   "execution_count": 60,
   "metadata": {},
   "outputs": [
    {
     "data": {
      "text/html": [
       "<div>\n",
       "<style scoped>\n",
       "    .dataframe tbody tr th:only-of-type {\n",
       "        vertical-align: middle;\n",
       "    }\n",
       "\n",
       "    .dataframe tbody tr th {\n",
       "        vertical-align: top;\n",
       "    }\n",
       "\n",
       "    .dataframe thead th {\n",
       "        text-align: right;\n",
       "    }\n",
       "</style>\n",
       "<table border=\"1\" class=\"dataframe\">\n",
       "  <thead>\n",
       "    <tr style=\"text-align: right;\">\n",
       "      <th></th>\n",
       "      <th>const</th>\n",
       "      <th>carwidth</th>\n",
       "      <th>enginesize</th>\n",
       "      <th>enginelocation_rear</th>\n",
       "      <th>car_company_bmw</th>\n",
       "      <th>car_company_porsche</th>\n",
       "    </tr>\n",
       "  </thead>\n",
       "  <tbody>\n",
       "    <tr>\n",
       "      <th>160</th>\n",
       "      <td>1.0</td>\n",
       "      <td>-0.704593</td>\n",
       "      <td>-0.695874</td>\n",
       "      <td>-0.121867</td>\n",
       "      <td>-0.201517</td>\n",
       "      <td>-0.158114</td>\n",
       "    </tr>\n",
       "    <tr>\n",
       "      <th>186</th>\n",
       "      <td>1.0</td>\n",
       "      <td>-0.190566</td>\n",
       "      <td>-0.431076</td>\n",
       "      <td>-0.121867</td>\n",
       "      <td>-0.201517</td>\n",
       "      <td>-0.158114</td>\n",
       "    </tr>\n",
       "    <tr>\n",
       "      <th>59</th>\n",
       "      <td>1.0</td>\n",
       "      <td>0.276731</td>\n",
       "      <td>-0.118132</td>\n",
       "      <td>-0.121867</td>\n",
       "      <td>-0.201517</td>\n",
       "      <td>-0.158114</td>\n",
       "    </tr>\n",
       "    <tr>\n",
       "      <th>165</th>\n",
       "      <td>1.0</td>\n",
       "      <td>-0.891512</td>\n",
       "      <td>-0.695874</td>\n",
       "      <td>-0.121867</td>\n",
       "      <td>-0.201517</td>\n",
       "      <td>-0.158114</td>\n",
       "    </tr>\n",
       "    <tr>\n",
       "      <th>140</th>\n",
       "      <td>1.0</td>\n",
       "      <td>-0.984972</td>\n",
       "      <td>-0.455148</td>\n",
       "      <td>-0.121867</td>\n",
       "      <td>-0.201517</td>\n",
       "      <td>-0.158114</td>\n",
       "    </tr>\n",
       "  </tbody>\n",
       "</table>\n",
       "</div>"
      ],
      "text/plain": [
       "     const  carwidth  enginesize  enginelocation_rear  car_company_bmw  \\\n",
       "160    1.0 -0.704593   -0.695874            -0.121867        -0.201517   \n",
       "186    1.0 -0.190566   -0.431076            -0.121867        -0.201517   \n",
       "59     1.0  0.276731   -0.118132            -0.121867        -0.201517   \n",
       "165    1.0 -0.891512   -0.695874            -0.121867        -0.201517   \n",
       "140    1.0 -0.984972   -0.455148            -0.121867        -0.201517   \n",
       "\n",
       "     car_company_porsche  \n",
       "160            -0.158114  \n",
       "186            -0.158114  \n",
       "59             -0.158114  \n",
       "165            -0.158114  \n",
       "140            -0.158114  "
      ]
     },
     "execution_count": 60,
     "metadata": {},
     "output_type": "execute_result"
    }
   ],
   "source": [
    "X_test_rfe_n =X_test_rfe_n.loc[:,X_test_rfe_n.columns !='curbweight']\n",
    "X_test_rfe_n.head()"
   ]
  },
  {
   "cell_type": "markdown",
   "metadata": {},
   "source": [
    "# Thank You"
   ]
  },
  {
   "cell_type": "code",
   "execution_count": null,
   "metadata": {},
   "outputs": [],
   "source": []
  }
 ],
 "metadata": {
  "kernelspec": {
   "display_name": "Python 3",
   "language": "python",
   "name": "python3"
  },
  "language_info": {
   "codemirror_mode": {
    "name": "ipython",
    "version": 3
   },
   "file_extension": ".py",
   "mimetype": "text/x-python",
   "name": "python",
   "nbconvert_exporter": "python",
   "pygments_lexer": "ipython3",
   "version": "3.8.3"
  }
 },
 "nbformat": 4,
 "nbformat_minor": 4
}
