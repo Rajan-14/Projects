{
 "cells": [
  {
   "cell_type": "markdown",
   "metadata": {},
   "source": [
    "# Project on :- Classification of musical instrument using Convolutional Neural Network (CNN)\n",
    "\n",
    "### Below is the list of what we need to do:\n",
    "\n",
    "1. Data collection\n",
    "2. Data generation\n",
    "3. Features preprocessing (using MFCC)\n",
    "4. Label preprocessing\n",
    "5. Model training (using CNN)\n",
    "6. Model evaluation"
   ]
  },
  {
   "cell_type": "markdown",
   "metadata": {},
   "source": [
    "# Step 1: Data collection\n",
    "\n",
    "\n",
    "- As always, the first thing I do when working with machine learning or deep learning projects is collecting all required data. I am taking thousands of audio files from a Kaggle competition which you can download from this link: https://www.kaggle.com/c/freesound-audio-tagging/data. The dataset contains 41 classes in which each of those represents the name of a musical instrument such as cello, chime and clarinet. Actually there are also some other non-musical instrument sounds like telephone and fireworks in the dataset. However, here in my project I decided to choose only 5 musical instruments to be classified for simplicity."
   ]
  },
  {
   "cell_type": "code",
   "execution_count": 1,
   "metadata": {},
   "outputs": [
    {
     "name": "stderr",
     "output_type": "stream",
     "text": [
      "Using TensorFlow backend.\n"
     ]
    }
   ],
   "source": [
    "# Import the various Libraries\n",
    "import os\n",
    "import librosa\n",
    "import pickle\n",
    "import numpy as np\n",
    "import pandas as pd\n",
    "import matplotlib.pyplot as plt\n",
    "import seaborn as sns\n",
    "from tqdm import tqdm\n",
    "from python_speech_features import mfcc\n",
    "from sklearn.preprocessing import LabelEncoder, OneHotEncoder\n",
    "from sklearn.model_selection import train_test_split\n",
    "from sklearn.metrics import confusion_matrix\n",
    "from keras.layers import Conv2D, MaxPool2D, Flatten, Dense, Dropout\n",
    "from keras.models import Sequential"
   ]
  },
  {
   "cell_type": "markdown",
   "metadata": {},
   "source": [
    "- librosa is a Python module which I use to load all audio data.\n",
    "- mfcc is a function coming with python_speech_features module which is very important to extract audio features to make those audio wave data more informative.\n",
    "- tqdm is use to display progress bar in a loop operation."
   ]
  },
  {
   "cell_type": "code",
   "execution_count": 2,
   "metadata": {},
   "outputs": [
    {
     "data": {
      "text/html": [
       "<div>\n",
       "<style scoped>\n",
       "    .dataframe tbody tr th:only-of-type {\n",
       "        vertical-align: middle;\n",
       "    }\n",
       "\n",
       "    .dataframe tbody tr th {\n",
       "        vertical-align: top;\n",
       "    }\n",
       "\n",
       "    .dataframe thead th {\n",
       "        text-align: right;\n",
       "    }\n",
       "</style>\n",
       "<table border=\"1\" class=\"dataframe\">\n",
       "  <thead>\n",
       "    <tr style=\"text-align: right;\">\n",
       "      <th></th>\n",
       "      <th>fname</th>\n",
       "      <th>label</th>\n",
       "      <th>manually_verified</th>\n",
       "    </tr>\n",
       "  </thead>\n",
       "  <tbody>\n",
       "    <tr>\n",
       "      <th>0</th>\n",
       "      <td>00044347.wav</td>\n",
       "      <td>Hi-hat</td>\n",
       "      <td>0</td>\n",
       "    </tr>\n",
       "    <tr>\n",
       "      <th>1</th>\n",
       "      <td>001ca53d.wav</td>\n",
       "      <td>Saxophone</td>\n",
       "      <td>1</td>\n",
       "    </tr>\n",
       "    <tr>\n",
       "      <th>2</th>\n",
       "      <td>002d256b.wav</td>\n",
       "      <td>Trumpet</td>\n",
       "      <td>0</td>\n",
       "    </tr>\n",
       "    <tr>\n",
       "      <th>3</th>\n",
       "      <td>0033e230.wav</td>\n",
       "      <td>Glockenspiel</td>\n",
       "      <td>1</td>\n",
       "    </tr>\n",
       "    <tr>\n",
       "      <th>4</th>\n",
       "      <td>00353774.wav</td>\n",
       "      <td>Cello</td>\n",
       "      <td>1</td>\n",
       "    </tr>\n",
       "  </tbody>\n",
       "</table>\n",
       "</div>"
      ],
      "text/plain": [
       "          fname         label  manually_verified\n",
       "0  00044347.wav        Hi-hat                  0\n",
       "1  001ca53d.wav     Saxophone                  1\n",
       "2  002d256b.wav       Trumpet                  0\n",
       "3  0033e230.wav  Glockenspiel                  1\n",
       "4  00353774.wav         Cello                  1"
      ]
     },
     "execution_count": 2,
     "metadata": {},
     "output_type": "execute_result"
    }
   ],
   "source": [
    "# Import the data\n",
    "df = pd.read_csv('train.csv')\n",
    "df.head()"
   ]
  },
  {
   "cell_type": "markdown",
   "metadata": {},
   "source": [
    "- Data set contains three columns fname is audio file, label indicates the name of instrument and manually_verified is real person verified about the label name indicate along with row is correct or not.\n",
    "1- correct as label,\n",
    "0 - incorrect as label"
   ]
  },
  {
   "cell_type": "code",
   "execution_count": 3,
   "metadata": {},
   "outputs": [
    {
     "data": {
      "text/plain": [
       "41"
      ]
     },
     "execution_count": 3,
     "metadata": {},
     "output_type": "execute_result"
    }
   ],
   "source": [
    "df.label.nunique()"
   ]
  },
  {
   "cell_type": "markdown",
   "metadata": {},
   "source": [
    "- 41 type of instruments aviable in data set "
   ]
  },
  {
   "cell_type": "code",
   "execution_count": 4,
   "metadata": {},
   "outputs": [],
   "source": [
    "# Take 5 classes from the dataset\n",
    "df = df[df['label'].isin(['Cello','Saxophone','Acoustic_guitar','Double_bass', 'Clarinet'])]\n"
   ]
  },
  {
   "cell_type": "markdown",
   "metadata": {},
   "source": [
    "- Out of 41 instrument we take only these five instruments."
   ]
  },
  {
   "cell_type": "code",
   "execution_count": 5,
   "metadata": {},
   "outputs": [
    {
     "name": "stderr",
     "output_type": "stream",
     "text": [
      "100%|██████████| 1500/1500 [10:55<00:00,  2.29it/s]\n",
      "C:\\Users\\rajan\\anaconda3\\envs\\tensorflow_gpuenv\\lib\\site-packages\\ipykernel_launcher.py:6: VisibleDeprecationWarning: Creating an ndarray from ragged nested sequences (which is a list-or-tuple of lists-or-tuples-or ndarrays with different lengths or shapes) is deprecated. If you meant to do this, you must specify 'dtype=object' when creating the ndarray\n",
      "  \n"
     ]
    }
   ],
   "source": [
    "# Loading data\n",
    "path = 'audio_train/'\n",
    "audio_data = list()\n",
    "for i in tqdm(range(df.shape[0])):\n",
    "    audio_data.append(librosa.load(path+df['fname'].iloc[i]))\n",
    "audio_data = np.array(audio_data)"
   ]
  },
  {
   "cell_type": "markdown",
   "metadata": {},
   "source": [
    "- Here I declared an empty list called audio_data and append each of raw audio data using librosa.load() function. \n",
    "- Shape of this audio_data variable is (1500, 2).\n",
    "- Lastly, I also convert the audio_data list into Numpy array."
   ]
  },
  {
   "cell_type": "code",
   "execution_count": 6,
   "metadata": {},
   "outputs": [
    {
     "data": {
      "text/html": [
       "<div>\n",
       "<style scoped>\n",
       "    .dataframe tbody tr th:only-of-type {\n",
       "        vertical-align: middle;\n",
       "    }\n",
       "\n",
       "    .dataframe tbody tr th {\n",
       "        vertical-align: top;\n",
       "    }\n",
       "\n",
       "    .dataframe thead th {\n",
       "        text-align: right;\n",
       "    }\n",
       "</style>\n",
       "<table border=\"1\" class=\"dataframe\">\n",
       "  <thead>\n",
       "    <tr style=\"text-align: right;\">\n",
       "      <th></th>\n",
       "      <th>fname</th>\n",
       "      <th>label</th>\n",
       "      <th>manually_verified</th>\n",
       "      <th>audio_waves</th>\n",
       "      <th>samplerate</th>\n",
       "    </tr>\n",
       "  </thead>\n",
       "  <tbody>\n",
       "    <tr>\n",
       "      <th>1</th>\n",
       "      <td>001ca53d.wav</td>\n",
       "      <td>Saxophone</td>\n",
       "      <td>1</td>\n",
       "      <td>[-0.0007303721, -0.0010996412, -0.0010551845, ...</td>\n",
       "      <td>22050</td>\n",
       "    </tr>\n",
       "    <tr>\n",
       "      <th>4</th>\n",
       "      <td>00353774.wav</td>\n",
       "      <td>Cello</td>\n",
       "      <td>1</td>\n",
       "      <td>[-0.003822653, -0.0053708917, -0.0044372473, -...</td>\n",
       "      <td>22050</td>\n",
       "    </tr>\n",
       "    <tr>\n",
       "      <th>5</th>\n",
       "      <td>003b91e8.wav</td>\n",
       "      <td>Cello</td>\n",
       "      <td>0</td>\n",
       "      <td>[0.0031921505, 0.0048865937, 0.004513402, 0.00...</td>\n",
       "      <td>22050</td>\n",
       "    </tr>\n",
       "    <tr>\n",
       "      <th>8</th>\n",
       "      <td>004ad66f.wav</td>\n",
       "      <td>Clarinet</td>\n",
       "      <td>0</td>\n",
       "      <td>[-0.00018609133, -0.00029739283, -0.0003075322...</td>\n",
       "      <td>22050</td>\n",
       "    </tr>\n",
       "    <tr>\n",
       "      <th>14</th>\n",
       "      <td>0091fc7f.wav</td>\n",
       "      <td>Cello</td>\n",
       "      <td>1</td>\n",
       "      <td>[0.00042805163, 0.0005860274, 0.00045838652, 0...</td>\n",
       "      <td>22050</td>\n",
       "    </tr>\n",
       "  </tbody>\n",
       "</table>\n",
       "</div>"
      ],
      "text/plain": [
       "           fname      label  manually_verified  \\\n",
       "1   001ca53d.wav  Saxophone                  1   \n",
       "4   00353774.wav      Cello                  1   \n",
       "5   003b91e8.wav      Cello                  0   \n",
       "8   004ad66f.wav   Clarinet                  0   \n",
       "14  0091fc7f.wav      Cello                  1   \n",
       "\n",
       "                                          audio_waves samplerate  \n",
       "1   [-0.0007303721, -0.0010996412, -0.0010551845, ...      22050  \n",
       "4   [-0.003822653, -0.0053708917, -0.0044372473, -...      22050  \n",
       "5   [0.0031921505, 0.0048865937, 0.004513402, 0.00...      22050  \n",
       "8   [-0.00018609133, -0.00029739283, -0.0003075322...      22050  \n",
       "14  [0.00042805163, 0.0005860274, 0.00045838652, 0...      22050  "
      ]
     },
     "execution_count": 6,
     "metadata": {},
     "output_type": "execute_result"
    }
   ],
   "source": [
    "# Put the loaded data into data frame\n",
    "df['audio_waves'] = audio_data[:,0]\n",
    "df['samplerate'] = audio_data[:,1]\n",
    "df.head()"
   ]
  },
  {
   "cell_type": "markdown",
   "metadata": {},
   "source": [
    "- Now we will put the content of audio_data variable into data frame df"
   ]
  },
  {
   "cell_type": "code",
   "execution_count": 7,
   "metadata": {},
   "outputs": [
    {
     "data": {
      "text/html": [
       "<div>\n",
       "<style scoped>\n",
       "    .dataframe tbody tr th:only-of-type {\n",
       "        vertical-align: middle;\n",
       "    }\n",
       "\n",
       "    .dataframe tbody tr th {\n",
       "        vertical-align: top;\n",
       "    }\n",
       "\n",
       "    .dataframe thead th {\n",
       "        text-align: right;\n",
       "    }\n",
       "</style>\n",
       "<table border=\"1\" class=\"dataframe\">\n",
       "  <thead>\n",
       "    <tr style=\"text-align: right;\">\n",
       "      <th></th>\n",
       "      <th>fname</th>\n",
       "      <th>label</th>\n",
       "      <th>manually_verified</th>\n",
       "      <th>audio_waves</th>\n",
       "      <th>samplerate</th>\n",
       "      <th>bit_lengths</th>\n",
       "      <th>second_lengths</th>\n",
       "    </tr>\n",
       "  </thead>\n",
       "  <tbody>\n",
       "    <tr>\n",
       "      <th>1</th>\n",
       "      <td>001ca53d.wav</td>\n",
       "      <td>Saxophone</td>\n",
       "      <td>1</td>\n",
       "      <td>[-0.0007303721, -0.0010996412, -0.0010551845, ...</td>\n",
       "      <td>22050</td>\n",
       "      <td>227556</td>\n",
       "      <td>10.32</td>\n",
       "    </tr>\n",
       "    <tr>\n",
       "      <th>4</th>\n",
       "      <td>00353774.wav</td>\n",
       "      <td>Cello</td>\n",
       "      <td>1</td>\n",
       "      <td>[-0.003822653, -0.0053708917, -0.0044372473, -...</td>\n",
       "      <td>22050</td>\n",
       "      <td>99666</td>\n",
       "      <td>4.52</td>\n",
       "    </tr>\n",
       "    <tr>\n",
       "      <th>5</th>\n",
       "      <td>003b91e8.wav</td>\n",
       "      <td>Cello</td>\n",
       "      <td>0</td>\n",
       "      <td>[0.0031921505, 0.0048865937, 0.004513402, 0.00...</td>\n",
       "      <td>22050</td>\n",
       "      <td>292824</td>\n",
       "      <td>13.28</td>\n",
       "    </tr>\n",
       "    <tr>\n",
       "      <th>8</th>\n",
       "      <td>004ad66f.wav</td>\n",
       "      <td>Clarinet</td>\n",
       "      <td>0</td>\n",
       "      <td>[-0.00018609133, -0.00029739283, -0.0003075322...</td>\n",
       "      <td>22050</td>\n",
       "      <td>154350</td>\n",
       "      <td>7</td>\n",
       "    </tr>\n",
       "    <tr>\n",
       "      <th>14</th>\n",
       "      <td>0091fc7f.wav</td>\n",
       "      <td>Cello</td>\n",
       "      <td>1</td>\n",
       "      <td>[0.00042805163, 0.0005860274, 0.00045838652, 0...</td>\n",
       "      <td>22050</td>\n",
       "      <td>125685</td>\n",
       "      <td>5.7</td>\n",
       "    </tr>\n",
       "  </tbody>\n",
       "</table>\n",
       "</div>"
      ],
      "text/plain": [
       "           fname      label  manually_verified  \\\n",
       "1   001ca53d.wav  Saxophone                  1   \n",
       "4   00353774.wav      Cello                  1   \n",
       "5   003b91e8.wav      Cello                  0   \n",
       "8   004ad66f.wav   Clarinet                  0   \n",
       "14  0091fc7f.wav      Cello                  1   \n",
       "\n",
       "                                          audio_waves samplerate  bit_lengths  \\\n",
       "1   [-0.0007303721, -0.0010996412, -0.0010551845, ...      22050       227556   \n",
       "4   [-0.003822653, -0.0053708917, -0.0044372473, -...      22050        99666   \n",
       "5   [0.0031921505, 0.0048865937, 0.004513402, 0.00...      22050       292824   \n",
       "8   [-0.00018609133, -0.00029739283, -0.0003075322...      22050       154350   \n",
       "14  [0.00042805163, 0.0005860274, 0.00045838652, 0...      22050       125685   \n",
       "\n",
       "   second_lengths  \n",
       "1           10.32  \n",
       "4            4.52  \n",
       "5           13.28  \n",
       "8               7  \n",
       "14            5.7  "
      ]
     },
     "execution_count": 7,
     "metadata": {},
     "output_type": "execute_result"
    }
   ],
   "source": [
    "# Calculate the length of each audio file\n",
    "bit_lengths = list()\n",
    "for i in range(df.shape[0]):\n",
    "    bit_lengths.append(len(df['audio_waves'].iloc[i]))\n",
    "bit_lengths = np.array(bit_lengths)\n",
    "df['bit_lengths'] = bit_lengths\n",
    "df['second_lengths'] = df['bit_lengths']/df['samplerate']\n",
    "df.head()"
   ]
  },
  {
   "cell_type": "markdown",
   "metadata": {},
   "source": [
    "- bit_lengths is essentially just the number of bits in each audio waves.\n",
    "- second_lengths is the length of all audio files in seconds.\n",
    "- In order to get the value for second_lengths, we can simply divide the number of all bits of each audio wave with the corresponding sample rate."
   ]
  },
  {
   "cell_type": "markdown",
   "metadata": {},
   "source": [
    "# Step 2: Data generation\n",
    "\n",
    "Up to this point, we already got a data frame df which now contains the length of all audio files. We just realized that actually all those audios are having different lengths. And well, this is a problem. Why? Because any machine learning or deep learning classifier models only accept data with exact same shape for each sample. So now, the solution is to make those data having the same length. In this project, I decided to go with 2 seconds of audio data.\n",
    "In order to do it, the first thing I wanna do is to drop all samples which are shorter than 2 seconds."
   ]
  },
  {
   "cell_type": "code",
   "execution_count": 8,
   "metadata": {},
   "outputs": [],
   "source": [
    "# Take only the audio with >= 2 seconds audio length\n",
    "df = df[df['second_lengths'] >= 2.0]"
   ]
  },
  {
   "cell_type": "code",
   "execution_count": 9,
   "metadata": {},
   "outputs": [],
   "source": [
    "# In case you want to create a checkpoint\n",
    "with open('audio_df.pickle', 'wb') as f:\n",
    "    pickle.dump(df, f)"
   ]
  },
  {
   "cell_type": "code",
   "execution_count": 10,
   "metadata": {},
   "outputs": [],
   "source": [
    "# In case you want to load a checkpoint\n",
    "with open('audio_df.pickle', 'rb') as f:\n",
    "    df = pickle.load(f)"
   ]
  },
  {
   "cell_type": "code",
   "execution_count": 11,
   "metadata": {},
   "outputs": [
    {
     "name": "stdout",
     "output_type": "stream",
     "text": [
      "44100\n",
      "2.0\n"
     ]
    }
   ],
   "source": [
    "# Check whether our minimum length is 2 seconds or more\n",
    "min_bits = np.min(df['bit_lengths'])\n",
    "print(min_bits)\n",
    "min_seconds = np.min(df['second_lengths'])\n",
    "print(min_seconds)"
   ]
  },
  {
   "cell_type": "code",
   "execution_count": 12,
   "metadata": {},
   "outputs": [
    {
     "name": "stderr",
     "output_type": "stream",
     "text": [
      "100%|██████████| 6000/6000 [00:15<00:00, 378.70it/s]\n"
     ]
    }
   ],
   "source": [
    "# Generate 60000 data\n",
    "num_samples = 6000\n",
    "generated_audio_waves = list()\n",
    "generated_audio_labels = list()\n",
    "for i in tqdm(range(num_samples)):\n",
    "    try:\n",
    "        chosen_file = np.random.choice(df['fname'].values)\n",
    "        chosen_initial = np.random.choice(np.arange(0,df[df['fname']==chosen_file]['bit_lengths'].values-min_bits))\n",
    "        generated_audio_waves.append(df[df['fname']==chosen_file]['audio_waves'].values[0][chosen_initial:chosen_initial+min_bits])\n",
    "        \n",
    "        generated_audio_labels.append(df[df['fname']==chosen_file]['label'].values)\n",
    "    except ValueError:\n",
    "        continue\n",
    "generated_audio_waves = np.array(generated_audio_waves)\n",
    "generated_audio_labels = np.array(generated_audio_labels)"
   ]
  },
  {
   "cell_type": "markdown",
   "metadata": {},
   "source": [
    "- Well, the point of the code above is to generate 2-seconds length audio in which it is stored in generated_audio_waves (for the wave data itself) and generated_audio_labels (for the labels of the corresponding wave data). Here I decided to take 6000 audio chunks which I declared using num_samples variable. Next, after generating all data, I also convert both lists to Numpy array because I think it’s just simpler than Python list."
   ]
  },
  {
   "cell_type": "markdown",
   "metadata": {},
   "source": [
    "# Step 3: Features preprocessing\n",
    "\n",
    "- Raw audio wave that we extracted in step 1 using librosa is not really informative since it essentially only consists of one-dimensional data stored in an array. This array shape only represents the amplitude (loudness) of each bit. In fact, loudness is not the only feature that we want to take into account when we are about to distinguish different sounds. Instead, it is also necessary to consider the pitch of those audios. Therefore, in order to extract the pitch information based on given raw audio we are going to utilize a function called mfcc()."
   ]
  },
  {
   "cell_type": "code",
   "execution_count": 13,
   "metadata": {},
   "outputs": [
    {
     "name": "stderr",
     "output_type": "stream",
     "text": [
      "100%|██████████| 5970/5970 [00:51<00:00, 117.04it/s]\n"
     ]
    }
   ],
   "source": [
    "mfcc_features = list()\n",
    "for i in tqdm(range(len(generated_audio_waves))):\n",
    "    mfcc_features.append(mfcc(generated_audio_waves[i]))\n",
    "mfcc_features = np.array(mfcc_features)"
   ]
  },
  {
   "cell_type": "markdown",
   "metadata": {},
   "source": [
    "-  Since it contains all the raw audio data, then we can simply use a for loop to iterate through all the values of the array and convert each of the waves into MFCC features."
   ]
  },
  {
   "cell_type": "code",
   "execution_count": 14,
   "metadata": {},
   "outputs": [
    {
     "name": "stdout",
     "output_type": "stream",
     "text": [
      "(5970, 44100)\n",
      "(5970, 275, 13)\n"
     ]
    }
   ],
   "source": [
    "# Check the shape of raw wave and MFCC features\n",
    "print(generated_audio_waves.shape)\n",
    "print(mfcc_features.shape)"
   ]
  },
  {
   "cell_type": "markdown",
   "metadata": {},
   "source": [
    "- Now the shape of mfcc_features represents the number of audio data and the heatmap image with the size of 275 times 13 produced using mfcc() function."
   ]
  },
  {
   "cell_type": "code",
   "execution_count": 15,
   "metadata": {},
   "outputs": [
    {
     "data": {
      "image/png": "[encoded data removed]",
      "text/plain": [
       "<Figure size 864x144 with 1 Axes>"
      ]
     },
     "metadata": {
      "needs_background": "light"
     },
     "output_type": "display_data"
    }
   ],
   "source": [
    "#Print a raw audio wave\n",
    "plt.figure(figsize=(12,2))\n",
    "plt.plot(generated_audio_waves[30])\n",
    "plt.title(generated_audio_labels[30])\n",
    "plt.show()"
   ]
  },
  {
   "cell_type": "code",
   "execution_count": 16,
   "metadata": {},
   "outputs": [
    {
     "data": {
      "image/png": "[encoded data removed]",
      "text/plain": [
       "<Figure size 864x144 with 1 Axes>"
      ]
     },
     "metadata": {
      "needs_background": "light"
     },
     "output_type": "display_data"
    }
   ],
   "source": [
    "# Print the MFCC features of the audio wave\n",
    "plt.figure(figsize=(12, 2))\n",
    "plt.imshow(mfcc_features[30].T, cmap='hot')\n",
    "plt.title(generated_audio_labels[30])\n",
    "plt.show()"
   ]
  },
  {
   "cell_type": "markdown",
   "metadata": {},
   "source": [
    "# Step 4: Label preprocessing\n",
    "\n",
    "- Remember that the values in our generated_audio_labels array are still in form of raw categorical data (i.e. cello, saxophone, acoustic guitar, double bass and clarinet), which is absolutely not acceptable by neural network. Therefore, my approach here is to utilize LabelEncoder() and OneHotEncoder() object coming from Sklearn module."
   ]
  },
  {
   "cell_type": "code",
   "execution_count": 17,
   "metadata": {},
   "outputs": [
    {
     "name": "stdout",
     "output_type": "stream",
     "text": [
      "[2 3 4 ... 1 4 0]\n",
      "[[2]\n",
      " [3]\n",
      " [4]\n",
      " ...\n",
      " [1]\n",
      " [4]\n",
      " [0]]\n"
     ]
    },
    {
     "name": "stderr",
     "output_type": "stream",
     "text": [
      "C:\\Users\\rajan\\anaconda3\\envs\\tensorflow_gpuenv\\lib\\site-packages\\sklearn\\utils\\validation.py:63: DataConversionWarning: A column-vector y was passed when a 1d array was expected. Please change the shape of y to (n_samples, ), for example using ravel().\n",
      "  return f(*args, **kwargs)\n"
     ]
    }
   ],
   "source": [
    "# Label encoding\n",
    "label_encoder = LabelEncoder()\n",
    "label_encoded = label_encoder.fit_transform(generated_audio_labels)\n",
    "print(label_encoded)\n",
    "\n",
    "label_encoded = label_encoded[:, np.newaxis]\n",
    "print(label_encoded)"
   ]
  },
  {
   "cell_type": "code",
   "execution_count": 18,
   "metadata": {},
   "outputs": [
    {
     "name": "stdout",
     "output_type": "stream",
     "text": [
      "[[0. 0. 1. 0. 0.]\n",
      " [0. 0. 0. 1. 0.]\n",
      " [0. 0. 0. 0. 1.]\n",
      " ...\n",
      " [0. 1. 0. 0. 0.]\n",
      " [0. 0. 0. 0. 1.]\n",
      " [1. 0. 0. 0. 0.]]\n"
     ]
    }
   ],
   "source": [
    "# One hot encoding\n",
    "one_hot_encoder = OneHotEncoder(sparse=False)\n",
    "one_hot_encoded = one_hot_encoder.fit_transform(label_encoded)\n",
    "print(one_hot_encoded)"
   ]
  },
  {
   "cell_type": "markdown",
   "metadata": {},
   "source": [
    "# Step 5: Model training\n",
    "\n",
    "- Before training the model, I convert mfcc_features and one_hot_encoded into X and y respectively to make things look more intuitive. Next, I also normalize the values of all samples using standard normalization formula. Lastly, the data are split into train and test in which the test size is taken from 20% of the entire dataset. This train-test split is important to find out whether our model suffers overfitting."
   ]
  },
  {
   "cell_type": "code",
   "execution_count": 19,
   "metadata": {},
   "outputs": [],
   "source": [
    "\n",
    "X = mfcc_features\n",
    "y = one_hot_encoded\n",
    "X = (X-X.min())/(X.max()-X.min())"
   ]
  },
  {
   "cell_type": "code",
   "execution_count": 20,
   "metadata": {},
   "outputs": [],
   "source": [
    "# Train/test split\n",
    "X_train, X_test, y_train, y_test = train_test_split(X, y, test_size=0.2)"
   ]
  },
  {
   "cell_type": "code",
   "execution_count": 21,
   "metadata": {},
   "outputs": [],
   "source": [
    "# Defining input shape for the neural network\n",
    "input_shape = (X_train.shape[1], X_train.shape[2], 1)\n"
   ]
  },
  {
   "cell_type": "markdown",
   "metadata": {},
   "source": [
    "- If you try to print out that input_shape, the result will be (275, 13, 1). Notice that the number 1 in the shape (last shape axis) should be there because it is just what is expected by Conv2D() layer in our neural network. Hence, we also need to reshape both X_train and X_test to be in that shape as well."
   ]
  },
  {
   "cell_type": "code",
   "execution_count": 22,
   "metadata": {},
   "outputs": [
    {
     "name": "stdout",
     "output_type": "stream",
     "text": [
      "(4776, 275, 13, 1)\n",
      "(1194, 275, 13, 1)\n"
     ]
    }
   ],
   "source": [
    "# Reshape X_train and X_test such that they are having the same shape as the input shape\n",
    "X_train = X_train.reshape(X_train.shape[0], X_train.shape[1], X_train.shape[2], 1)\n",
    "print(X_train.shape)\n",
    "X_test = X_test.reshape(X_test.shape[0], X_test.shape[1], X_test.shape[2], 1)\n",
    "print(X_test.shape)"
   ]
  },
  {
   "cell_type": "code",
   "execution_count": 23,
   "metadata": {},
   "outputs": [],
   "source": [
    "# Constructing the neural network architecture\n",
    "model = Sequential()\n",
    "model.add(Conv2D(16, (3, 3), activation='relu', strides=(1, 1), \n",
    "    padding='same', input_shape=input_shape))\n",
    "model.add(Conv2D(32, (3, 3), activation='relu', strides=(1, 1), \n",
    "    padding='same'))\n",
    "model.add(MaxPool2D((2, 2)))\n",
    "model.add(Dropout(0.5))\n",
    "model.add(Flatten())\n",
    "model.add(Dense(128, activation='relu'))\n",
    "model.add(Dropout(0.5))\n",
    "model.add(Dense(64, activation='relu'))\n",
    "model.add(Dropout(0.5))\n",
    "model.add(Dense(5, activation='softmax'))\n",
    "\n",
    "model.compile(loss='categorical_crossentropy', \n",
    "     optimizer='adam',\n",
    "     metrics=['acc'])"
   ]
  },
  {
   "cell_type": "markdown",
   "metadata": {},
   "source": [
    "- Now it’s time to actually build the Convolutional Neural Network (CNN) classifier. The reason why I use CNN is because this architecture is usually considered as one of the best to solve image classification task and in our case here, the images are in form of heatmap like what I displayed earlier. The complete architecture implementation is shown above along with the loss function and optimizer.\n",
    "\n",
    "- It might be important to keep in mind that categorical cross entropy loss function is used in this case because we are dealing with multiclass classification. Whereas, Adam optimizer is also chosen because I think it is just the best one right now.\n"
   ]
  },
  {
   "cell_type": "code",
   "execution_count": 31,
   "metadata": {},
   "outputs": [
    {
     "name": "stdout",
     "output_type": "stream",
     "text": [
      "Model: \"sequential_1\"\n",
      "_________________________________________________________________\n",
      "Layer (type)                 Output Shape              Param #   \n",
      "=================================================================\n",
      "conv2d_1 (Conv2D)            (None, 275, 13, 16)       160       \n",
      "_________________________________________________________________\n",
      "conv2d_2 (Conv2D)            (None, 275, 13, 32)       4640      \n",
      "_________________________________________________________________\n",
      "max_pooling2d_1 (MaxPooling2 (None, 137, 6, 32)        0         \n",
      "_________________________________________________________________\n",
      "dropout_1 (Dropout)          (None, 137, 6, 32)        0         \n",
      "_________________________________________________________________\n",
      "flatten_1 (Flatten)          (None, 26304)             0         \n",
      "_________________________________________________________________\n",
      "dense_1 (Dense)              (None, 128)               3367040   \n",
      "_________________________________________________________________\n",
      "dropout_2 (Dropout)          (None, 128)               0         \n",
      "_________________________________________________________________\n",
      "dense_2 (Dense)              (None, 64)                8256      \n",
      "_________________________________________________________________\n",
      "dropout_3 (Dropout)          (None, 64)                0         \n",
      "_________________________________________________________________\n",
      "dense_3 (Dense)              (None, 5)                 325       \n",
      "=================================================================\n",
      "Total params: 3,380,421\n",
      "Trainable params: 3,380,421\n",
      "Non-trainable params: 0\n",
      "_________________________________________________________________\n"
     ]
    }
   ],
   "source": [
    " model.summary()"
   ]
  },
  {
   "cell_type": "code",
   "execution_count": 24,
   "metadata": {},
   "outputs": [
    {
     "name": "stdout",
     "output_type": "stream",
     "text": [
      "Train on 4776 samples, validate on 1194 samples\n",
      "Epoch 1/30\n",
      "4776/4776 [==============================] - 33s 7ms/step - loss: 1.5076 - acc: 0.3061 - val_loss: 1.2258 - val_acc: 0.4732\n",
      "Epoch 2/30\n",
      "4776/4776 [==============================] - 12s 3ms/step - loss: 1.2576 - acc: 0.4322 - val_loss: 1.1299 - val_acc: 0.5469\n",
      "Epoch 3/30\n",
      "4776/4776 [==============================] - 12s 3ms/step - loss: 1.1283 - acc: 0.5291 - val_loss: 0.9526 - val_acc: 0.6441\n",
      "Epoch 4/30\n",
      "4776/4776 [==============================] - 12s 3ms/step - loss: 1.0402 - acc: 0.5938 - val_loss: 0.9392 - val_acc: 0.6449\n",
      "Epoch 5/30\n",
      "4776/4776 [==============================] - 12s 3ms/step - loss: 0.9740 - acc: 0.6219 - val_loss: 0.8452 - val_acc: 0.6926\n",
      "Epoch 6/30\n",
      "4776/4776 [==============================] - 12s 3ms/step - loss: 0.9039 - acc: 0.6604 - val_loss: 0.7738 - val_acc: 0.7035\n",
      "Epoch 7/30\n",
      "4776/4776 [==============================] - 12s 3ms/step - loss: 0.8492 - acc: 0.6840 - val_loss: 0.7503 - val_acc: 0.7102\n",
      "Epoch 8/30\n",
      "4776/4776 [==============================] - 12s 3ms/step - loss: 0.8129 - acc: 0.7023 - val_loss: 0.6933 - val_acc: 0.7437\n",
      "Epoch 9/30\n",
      "4776/4776 [==============================] - 12s 3ms/step - loss: 0.7555 - acc: 0.7188 - val_loss: 0.6845 - val_acc: 0.7479\n",
      "Epoch 10/30\n",
      "4776/4776 [==============================] - 12s 3ms/step - loss: 0.7458 - acc: 0.7249 - val_loss: 0.6692 - val_acc: 0.7521\n",
      "Epoch 11/30\n",
      "4776/4776 [==============================] - 12s 3ms/step - loss: 0.6923 - acc: 0.7483 - val_loss: 0.6258 - val_acc: 0.7613\n",
      "Epoch 12/30\n",
      "4776/4776 [==============================] - 12s 3ms/step - loss: 0.6575 - acc: 0.7573 - val_loss: 0.6023 - val_acc: 0.7831\n",
      "Epoch 13/30\n",
      "4776/4776 [==============================] - 12s 3ms/step - loss: 0.6321 - acc: 0.7634 - val_loss: 0.5729 - val_acc: 0.7915\n",
      "Epoch 14/30\n",
      "4776/4776 [==============================] - 12s 3ms/step - loss: 0.5810 - acc: 0.7883 - val_loss: 0.5757 - val_acc: 0.8015\n",
      "Epoch 15/30\n",
      "4776/4776 [==============================] - 12s 3ms/step - loss: 0.5823 - acc: 0.7837 - val_loss: 0.5528 - val_acc: 0.8074\n",
      "Epoch 16/30\n",
      "4776/4776 [==============================] - 12s 3ms/step - loss: 0.5551 - acc: 0.7963 - val_loss: 0.5466 - val_acc: 0.7931\n",
      "Epoch 17/30\n",
      "4776/4776 [==============================] - 12s 3ms/step - loss: 0.5343 - acc: 0.8093 - val_loss: 0.5288 - val_acc: 0.8116\n",
      "Epoch 18/30\n",
      "4776/4776 [==============================] - 12s 3ms/step - loss: 0.5166 - acc: 0.8084 - val_loss: 0.5263 - val_acc: 0.8124\n",
      "Epoch 19/30\n",
      "4776/4776 [==============================] - 12s 3ms/step - loss: 0.5332 - acc: 0.8111 - val_loss: 0.5560 - val_acc: 0.8141\n",
      "Epoch 20/30\n",
      "4776/4776 [==============================] - 12s 3ms/step - loss: 0.4873 - acc: 0.8176 - val_loss: 0.5288 - val_acc: 0.8149\n",
      "Epoch 21/30\n",
      "4776/4776 [==============================] - 12s 3ms/step - loss: 0.4824 - acc: 0.8277 - val_loss: 0.5142 - val_acc: 0.8258\n",
      "Epoch 22/30\n",
      "4776/4776 [==============================] - 12s 3ms/step - loss: 0.4638 - acc: 0.8302 - val_loss: 0.4923 - val_acc: 0.8342\n",
      "Epoch 23/30\n",
      "4776/4776 [==============================] - 12s 3ms/step - loss: 0.4341 - acc: 0.8413 - val_loss: 0.4861 - val_acc: 0.8325\n",
      "Epoch 24/30\n",
      "4776/4776 [==============================] - 12s 3ms/step - loss: 0.4580 - acc: 0.8348 - val_loss: 0.4961 - val_acc: 0.8208\n",
      "Epoch 25/30\n",
      "4776/4776 [==============================] - 12s 3ms/step - loss: 0.4204 - acc: 0.8430 - val_loss: 0.4556 - val_acc: 0.8425\n",
      "Epoch 26/30\n",
      "4776/4776 [==============================] - 12s 3ms/step - loss: 0.4169 - acc: 0.8488 - val_loss: 0.5080 - val_acc: 0.8275\n",
      "Epoch 27/30\n",
      "4776/4776 [==============================] - 12s 3ms/step - loss: 0.4104 - acc: 0.8532 - val_loss: 0.4686 - val_acc: 0.8451\n",
      "Epoch 28/30\n",
      "4776/4776 [==============================] - 12s 3ms/step - loss: 0.4128 - acc: 0.8534 - val_loss: 0.5065 - val_acc: 0.8233\n",
      "Epoch 29/30\n",
      "4776/4776 [==============================] - 12s 3ms/step - loss: 0.3772 - acc: 0.8633 - val_loss: 0.4826 - val_acc: 0.8317\n",
      "Epoch 30/30\n",
      "4776/4776 [==============================] - 12s 3ms/step - loss: 0.3675 - acc: 0.8641 - val_loss: 0.4770 - val_acc: 0.8476\n"
     ]
    }
   ],
   "source": [
    "# Training the model\n",
    "history = model.fit(X_train, y_train, epochs=30, validation_data=(X_test, y_test))\n"
   ]
  },
  {
   "cell_type": "markdown",
   "metadata": {},
   "source": [
    "- After compiling the model, now our CNN is ready to train. Here I decided to go with 30 epochs, which hopefully will be enough to obtain high accuracy. I ran the code above to start training the model. Also, note that I put the entire training process into history variable which will be useful to track the progress."
   ]
  },
  {
   "cell_type": "code",
   "execution_count": 25,
   "metadata": {},
   "outputs": [
    {
     "name": "stdout",
     "output_type": "stream",
     "text": [
      "loss: 0.36750231031796443\n",
      "val_loss: 0.47696179076654827\n"
     ]
    },
    {
     "data": {
      "image/png": "[encoded data removed]",
      "text/plain": [
       "<Figure size 576x576 with 1 Axes>"
      ]
     },
     "metadata": {
      "needs_background": "light"
     },
     "output_type": "display_data"
    }
   ],
   "source": [
    "# Displaying loss values\n",
    "plt.figure(figsize=(8,8))\n",
    "plt.title('Loss Value')\n",
    "plt.plot(history.history['loss'])\n",
    "plt.plot(history.history['val_loss'])\n",
    "plt.legend(['loss', 'val_loss'])\n",
    "print('loss:', history.history['loss'][-1])\n",
    "print('val_loss:', history.history['val_loss'][-1])\n",
    "plt.show()"
   ]
  },
  {
   "cell_type": "code",
   "execution_count": 26,
   "metadata": {},
   "outputs": [
    {
     "name": "stdout",
     "output_type": "stream",
     "text": [
      "acc: 0.8641122\n",
      "val_acc: 0.8475711941719055\n"
     ]
    },
    {
     "data": {
      "image/png": "[encoded data removed]",
      "text/plain": [
       "<Figure size 576x576 with 1 Axes>"
      ]
     },
     "metadata": {
      "needs_background": "light"
     },
     "output_type": "display_data"
    }
   ],
   "source": [
    "# Displaying accuracy scores\n",
    "plt.figure(figsize=(8,8))\n",
    "plt.title('Accuracy')\n",
    "plt.plot(history.history['acc'])\n",
    "plt.plot(history.history['val_acc'])\n",
    "plt.legend(['acc', 'val_acc'])\n",
    "print('acc:', history.history['acc'][-1])\n",
    "print('val_acc:', history.history['val_acc'][-1])\n",
    "plt.show()"
   ]
  },
  {
   "cell_type": "markdown",
   "metadata": {},
   "source": [
    "- According to the two graphs above, we can see that our model is performing pretty well as it reaches the final accuracy of 84% and 86% towards train and test data respectively. Also, both loss values are also decreasing as the the number of epoch increases. Therefore, we can conclude that this CNN classifier does not suffer overfitting at all!"
   ]
  },
  {
   "cell_type": "markdown",
   "metadata": {},
   "source": [
    "# Step 6: Model evaluation\n",
    "\n",
    "- Now let’s get deeper into the CNN model. In order to evaluate the performance of the model better, we are going to predict both train and test data again, but in a different session with the training process"
   ]
  },
  {
   "cell_type": "code",
   "execution_count": 27,
   "metadata": {},
   "outputs": [],
   "source": [
    "# predicting the test data\n",
    "predictions = model.predict(X_test)"
   ]
  },
  {
   "cell_type": "code",
   "execution_count": 28,
   "metadata": {},
   "outputs": [],
   "source": [
    "predictions = np.argmax(predictions, axis=1)\n",
    "y_test = one_hot_encoder.inverse_transform(y_test)"
   ]
  },
  {
   "cell_type": "markdown",
   "metadata": {},
   "source": [
    "- The code above shows how to take the argmax of all predictions on X_test and then followed by decoding y_test into the same form as the predictions variable (because previously we already converted y_test into one-hot representation, now we need to convert that back to label-encoded form). This is extremely necessary to do because we want to compare each of the element of predictions and y_test.\n",
    "\n",
    "- As predictions and y_test are now comparable, we can start to create a confusion matrix to evaluate the model performance better. Here we are going to use confusion_matrix function taken from Sklearn module."
   ]
  },
  {
   "cell_type": "code",
   "execution_count": 29,
   "metadata": {},
   "outputs": [
    {
     "data": {
      "image/png": "[encoded data removed]",
      "text/plain": [
       "<Figure size 576x576 with 1 Axes>"
      ]
     },
     "metadata": {
      "needs_background": "light"
     },
     "output_type": "display_data"
    }
   ],
   "source": [
    "# Creating confusion matrix\n",
    "cm = confusion_matrix(y_test, predictions)\n",
    "plt.figure(figsize=(8,8))\n",
    "sns.heatmap(cm, annot=True, xticklabels=label_encoder.classes_, yticklabels=label_encoder.classes_, fmt='d', cmap=plt.cm.Blues, cbar=False)\n",
    "plt.xlabel('Predicted Label')\n",
    "plt.ylabel('True Label')\n",
    "plt.show()"
   ]
  },
  {
   "cell_type": "markdown",
   "metadata": {},
   "source": [
    "- Using the confusion matrix above, we are able to know which class makes our CNN confused. Let’s take a look at saxophone true label (last row). Here we can see that 209 samples are predicted correctly, while 8 other saxophone samples are predicted as clarinet. Hence, we can guess that probably our classifier sometimes get difficulty to distinguish the sound of saxophone and clarinet."
   ]
  },
  {
   "cell_type": "markdown",
   "metadata": {},
   "source": [
    "# Thank You!"
   ]
  }
 ],
 "metadata": {
  "kernelspec": {
   "display_name": "Python 3",
   "language": "python",
   "name": "python3"
  },
  "language_info": {
   "codemirror_mode": {
    "name": "ipython",
    "version": 3
   },
   "file_extension": ".py",
   "mimetype": "text/x-python",
   "name": "python",
   "nbconvert_exporter": "python",
   "pygments_lexer": "ipython3",
   "version": "3.7.9"
  }
 },
 "nbformat": 4,
 "nbformat_minor": 4
}
